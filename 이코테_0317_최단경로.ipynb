{
  "nbformat": 4,
  "nbformat_minor": 0,
  "metadata": {
    "colab": {
      "provenance": [],
      "authorship_tag": "ABX9TyNruXG1l2+fkQ/k+xF27sP9",
      "include_colab_link": true
    },
    "kernelspec": {
      "name": "python3",
      "display_name": "Python 3"
    },
    "language_info": {
      "name": "python"
    }
  },
  "cells": [
    {
      "cell_type": "markdown",
      "metadata": {
        "id": "view-in-github",
        "colab_type": "text"
      },
      "source": [
        "<a href=\"https://colab.research.google.com/github/Yu-jiwon/codingtest_study/blob/main/%EC%9D%B4%EC%BD%94%ED%85%8C_0317_%EC%B5%9C%EB%8B%A8%EA%B2%BD%EB%A1%9C.ipynb\" target=\"_parent\"><img src=\"https://colab.research.google.com/assets/colab-badge.svg\" alt=\"Open In Colab\"/></a>"
      ]
    },
    {
      "cell_type": "code",
      "execution_count": 6,
      "metadata": {
        "colab": {
          "base_uri": "https://localhost:8080/"
        },
        "id": "JdtWqhTPbI_A",
        "outputId": "76a98c91-3b4c-4580-c7b5-c09a324ed3d9"
      },
      "outputs": [
        {
          "output_type": "stream",
          "name": "stdout",
          "text": [
            "5\n",
            "14\n",
            "1 2 2\n",
            "1 3 3\n",
            "1 4 1\n",
            "1 5 10\n",
            "2 4 2\n",
            "3 4 1\n",
            "3 5 1\n",
            "4 5 3\n",
            "3 5 10\n",
            "3 1 8\n",
            "1 4 2\n",
            "5 1 7\n",
            "3 4 2\n",
            "5 2 4\n",
            "0 2 3 1 4 \n",
            "12 0 15 2 5 \n",
            "8 5 0 1 1 \n",
            "10 7 13 0 3 \n",
            "7 4 10 6 0 \n"
          ]
        }
      ],
      "source": [
        "# 플로이드\n",
        "n = int(input())\n",
        "m = int(input())\n",
        "\n",
        "bus = []\n",
        "\n",
        "gragh=[[1e9]*(n+1) for _ in range (n+1)] #최소값을 구하기 위해 무한대 값으로 초기화\n",
        "\n",
        "for i in range(1,n+1):\n",
        "  for j in range(1,n+1):\n",
        "    if i==j:\n",
        "      gragh[i][j]=0 #자기에서 자기를 가는 것은 없으므로 0\n",
        "\n",
        "for i in range(m):\n",
        "  a,b,c = map(int, input().split())\n",
        "  if c<gragh[a][b]: #최솟값을 구해야되는데 같은 경로로 가는게 여러개 있을 수 있으니까\n",
        "    gragh[a][b]=c\n",
        "\n",
        "#플로이드 알고리즘\n",
        "for c in range(1, n+1): #거쳐가는 곳\n",
        "  for i in range(1,n+1): #출발\n",
        "    for j in range(1,n+1): #도착\n",
        "      gragh[i][j] = min(gragh[i][j],gragh[i][c]+gragh[c][j]) \n",
        "\n",
        "for i in range(1,n+1):\n",
        "  for j in range(1,n+1):\n",
        "    if gragh[i][j]==1e9:\n",
        "      print(0, end=\" \")\n",
        "    else:\n",
        "      print(gragh[i][j], end=\" \")\n",
        "  print() #출력형식을 맞추기 위해서"
      ]
    },
    {
      "cell_type": "code",
      "source": [
        "# 정확한 순위 -> 서로 비교 가능하면 순위를 알수 있음\n",
        "n, m = map(int, input().split())\n",
        "\n",
        "gragh=[[1e9]*(n+1) for _ in range(n+1)]\n",
        "\n",
        "for i in range(m):\n",
        "  a,b = map(int, input().split())\n",
        "  gragh[a][b]=1\n",
        "\n",
        "for i in range(1,n+1):\n",
        "  for j in range(1,n+1):\n",
        "    if i==j:\n",
        "      gragh[i][j]=0\n",
        "\n",
        "for k in range(1,n+1):\n",
        "  for i in range(1,n+1):\n",
        "    for j in range(1,n+1):\n",
        "      gragh[i][j] = min(gragh[i][j], gragh[i][k]+gragh[k][j])\n",
        "\n",
        "result=0\n",
        "for i in range(1,n+1):\n",
        "  cnt=0\n",
        "  for j in range(1,n+1):\n",
        "    if gragh[i][j]!=1e9 or gragh[j][i]!=1e9: #서로 비교가능하면 순위를 알수 있음\n",
        "      cnt+=1 \n",
        "  if cnt == n: #서로 비교 가능한 수가 n개와 같아지면 순위를 알 수 있음\n",
        "    result+=1\n",
        "print(result)"
      ],
      "metadata": {
        "colab": {
          "base_uri": "https://localhost:8080/"
        },
        "id": "kXmY9kwIjSNk",
        "outputId": "34ce153d-1da3-4a5d-ca31-a53a75cf79f1"
      },
      "execution_count": 7,
      "outputs": [
        {
          "output_type": "stream",
          "name": "stdout",
          "text": [
            "6 6\n",
            "1 5\n",
            "3 4\n",
            "4 2\n",
            "4 6\n",
            "5 2\n",
            "5 4\n",
            "1\n"
          ]
        }
      ]
    },
    {
      "cell_type": "code",
      "source": [
        "# 화성탐사\n",
        "import heapq\n",
        "t = int(input())\n",
        "dx=[-1,1,0,0] #상하좌우\n",
        "dy=[0,0,-1,1]\n",
        "\n",
        "for i in range(t):\n",
        "  n = int(input())\n",
        "  gragh =[]\n",
        "  for i in range(n):\n",
        "    gragh.append(list(map(int, input().split())))\n",
        "\n",
        "  distance=[[1e9]*n for _ in range(n)]# 최단거리 리스트\n",
        "\n",
        "  x,y = 0,0 #시작위치\n",
        "  q = [(gragh[x][y],x,y)] # 큐에 시작위치 값들을 저장\n",
        "  distance[x][y]=gragh[x][y] #최단거리 리스트에 시작 위치에서의 비용 저장\n",
        "\n",
        "  while q:\n",
        "    dist,x,y = heapq.heappop(q) #가장 거리가 짧은 노드의 정보 꺼냄()\n",
        "    if distance[x][y]<dist: #현재 노드가 이미 처리된적이 있으면 dist가 더 큼\n",
        "      continue\n",
        "    for i in range(4): #상하좌우로 이동할 수 있음\n",
        "      nx = x+dx[i]\n",
        "      ny = y+dy[i]\n",
        "      if nx<0 or nx>=n or ny<0 or ny>=n: #이동한 위치가 범위를 벗어나면 무시\n",
        "        continue\n",
        "      cost = dist + gragh[nx][ny] #비용에 지금까지 비용과 그 위치를 지나갈때 내는 비용을 더함\n",
        "      if cost<distance[nx][ny]: #그 값이 최소값이라면\n",
        "        distance[nx][ny]=cost #최단거리 리스트에 저장\n",
        "        heapq.heappush(q,(cost,nx,ny)) #힙에 저장\n",
        "\n",
        "  print(distance[n-1][n-1]) #가장 마지막 위치 값 출력"
      ],
      "metadata": {
        "colab": {
          "base_uri": "https://localhost:8080/"
        },
        "id": "qBfNJ1cyce6a",
        "outputId": "72efefd9-6108-4f99-b1ee-6f7ca300e2d2"
      },
      "execution_count": 11,
      "outputs": [
        {
          "output_type": "stream",
          "name": "stdout",
          "text": [
            "1\n",
            "3\n",
            "5 5 4\n",
            "3 9 1\n",
            "3 2 7\n",
            "20\n"
          ]
        }
      ]
    },
    {
      "cell_type": "code",
      "source": [
        "#숨바꼭질\n",
        "import heapq\n",
        "n,m = map(int, input().split())\n",
        "gragh=[[]for _ in range(n+1)]\n",
        "for i in range(m): #그래프 리스트 출발 노드에 도착 노드들을 저장하고 그때 이동비용을 1로 저장\n",
        "  a,b = map(int, input().split())\n",
        "  gragh[a].append((b,1)) #양방향\n",
        "  gragh[b].append((a,1))\n",
        "\n",
        "start=1 #시작은 1번\n",
        "\n",
        "distance = [1e9]*(n+1) #최단거리 리스트\n",
        "\n",
        "def di(start):\n",
        "  q=[]\n",
        "  heapq.heappush(q,(0,start)) # 처음은 시작노드로 가기 위한 것을 삽입(자기 자신으로 가는건 0, start는 도착지)\n",
        "  distance[start]=0 #시작노드에서 시작노드로 가기 위한 비용 0\n",
        "  while q:\n",
        "    dist, now = heapq.heappop(q) #현재 이동 비용이랑, 현재 위치 꺼냄\n",
        "    if distance[now]<dist: #현재 노드가 이미 처리되어 있으면 무시\n",
        "      continue\n",
        "    for i in gragh[now]: #연결된 노드로 이동\n",
        "      cost = dist+i[1] #현재 왔던 이동거리에 다음 노드의 이동 거리 합침->다음노드까지 걸리는 비용\n",
        "      if cost<distance[i[0]]: #그 비용이 해당 노드까지 가는 이전의 비용보다 적다면\n",
        "        distance[i[0]]=cost #최단거리 리스트에 저장\n",
        "        heapq.heappush(q,(cost,i[0])) #그 값을 큐에 저장\n",
        "di(start)\n",
        "\n",
        "max_node=0 #최단거리가 가장 먼 노드(숨을 위치)\n",
        "max_dist=0 #도달할 수 있는 노드 중에서 최단거리가 가장 먼 노드와의 최단거리\n",
        "result=[] #동일한 거리를 가지는 리스트\n",
        "\n",
        "for i in range(1,n+1):\n",
        "  if max_dist<distance[i]: # 숨을 위치가 최단거리 리스트보다 작으면\n",
        "    max_node=i #숨을 위치를 그 위치로 바꿈\n",
        "    max_dist=distance[i] #최단거리도 최단거리 리스트 값으로 저장\n",
        "    result=[max_node] #리스트에 저장\n",
        "  elif max_dist==distance[i]: #최단 거리가 동일한 노드가 나오면\n",
        "    result.append(i) # 추가\n",
        "\n",
        "print(max_node, max_dist, len(result))"
      ],
      "metadata": {
        "colab": {
          "base_uri": "https://localhost:8080/"
        },
        "id": "vp-l7H0xwJBV",
        "outputId": "8482608d-4aef-4c89-9243-ac230147fc14"
      },
      "execution_count": 12,
      "outputs": [
        {
          "output_type": "stream",
          "name": "stdout",
          "text": [
            "6 7\n",
            "3 6\n",
            "4 3\n",
            "3 2\n",
            "1 3\n",
            "1 2\n",
            "2 4\n",
            "5 2\n",
            "4 2 3\n"
          ]
        }
      ]
    },
    {
      "cell_type": "code",
      "source": [],
      "metadata": {
        "id": "-vkiyvko7Dwp"
      },
      "execution_count": null,
      "outputs": []
    }
  ]
}