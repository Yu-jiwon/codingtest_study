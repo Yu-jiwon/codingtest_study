{
  "nbformat": 4,
  "nbformat_minor": 0,
  "metadata": {
    "colab": {
      "provenance": [],
      "authorship_tag": "ABX9TyOT/563Tfmr3RGL2awvNkxc",
      "include_colab_link": true
    },
    "kernelspec": {
      "name": "python3",
      "display_name": "Python 3"
    },
    "language_info": {
      "name": "python"
    }
  },
  "cells": [
    {
      "cell_type": "markdown",
      "metadata": {
        "id": "view-in-github",
        "colab_type": "text"
      },
      "source": [
        "<a href=\"https://colab.research.google.com/github/Yu-jiwon/codingtest_study/blob/main/%EB%B0%B1%EC%A4%80_0302.ipynb\" target=\"_parent\"><img src=\"https://colab.research.google.com/assets/colab-badge.svg\" alt=\"Open In Colab\"/></a>"
      ]
    },
    {
      "cell_type": "markdown",
      "source": [
        "### 20300_서강근육맨"
      ],
      "metadata": {
        "id": "CW5EH3XXscv8"
      }
    },
    {
      "cell_type": "code",
      "execution_count": null,
      "metadata": {
        "colab": {
          "base_uri": "https://localhost:8080/"
        },
        "id": "y6wf7VlvsUDD",
        "outputId": "f617f698-641b-49a8-f778-6822763ef2e5"
      },
      "outputs": [
        {
          "output_type": "stream",
          "name": "stdout",
          "text": [
            "4\n",
            "1 2 3 4\n",
            "[5, 5]\n"
          ]
        }
      ],
      "source": [
        "n = int(input())\n",
        "t = list(map(int, input().split()))\n",
        "t.sort() #운동기구를 오름차순으로 정리\n",
        "m=[]\n",
        "\n",
        "# n이 짝수면, 앞에서 i번째와 뒤에서 i-1번째를 더함\n",
        "# 더한 수들을 배열로 저장 -> max값 출력 \n",
        "if n%2==0:\n",
        "  for i in range(0,int(n/2)):\n",
        "    m.append(t[i]+t[n-i-1])\n",
        "\n",
        "# n이 홀수면, 앞에서 i번째와 뒤에서 i-2번째를 더하고, 마지막 수를 따로 저장\n",
        "# 더한 수들을 배열로 저장 -> max값 출력 \n",
        "else:\n",
        "  for i in range(0,int((n-1)/2)):\n",
        "    m.append(t[i]+t[n-i-2])\n",
        "  m.append(t[n-1])\n",
        "  \n",
        "print(max(m))"
      ]
    },
    {
      "cell_type": "markdown",
      "source": [
        "### 1541_잃어버린 괄호"
      ],
      "metadata": {
        "id": "lv5EZqkZsdSX"
      }
    },
    {
      "cell_type": "code",
      "source": [
        "x = input().split('-') # - 연산이 가장 마지막에 이루어져야 함\n",
        "\n",
        "sum = 0\n",
        "\n",
        "# 첫번째 수는 무조건 더하기\n",
        "for i in x[0].split('+'):\n",
        "  sum+=int(i)\n",
        "  \n",
        "# 두번째 수부터는 빼기(+가 포함된 것은 분리하여 빼기)\n",
        "for i in range(1,len(x)):\n",
        "  for j in x[i].split('+'):\n",
        "    sum-=int(j)\n",
        "\n",
        "print(sum)"
      ],
      "metadata": {
        "colab": {
          "base_uri": "https://localhost:8080/"
        },
        "id": "-sJ_N5n5tIUg",
        "outputId": "cab3b7de-d2fe-4777-8c7e-23443810ed29"
      },
      "execution_count": null,
      "outputs": [
        {
          "name": "stdout",
          "output_type": "stream",
          "text": [
            "00009-00009\n"
          ]
        },
        {
          "output_type": "execute_result",
          "data": {
            "text/plain": [
              "0"
            ]
          },
          "metadata": {},
          "execution_count": 25
        }
      ]
    },
    {
      "cell_type": "markdown",
      "source": [
        "### 1931_회의실 배정"
      ],
      "metadata": {
        "id": "lF--4NgXsdiZ"
      }
    },
    {
      "cell_type": "code",
      "source": [
        "n = int(input())\n",
        "x=[]\n",
        "for i in range(0,n):\n",
        "  x.append(list(map(int, input().split())))\n",
        "\n",
        "x.sort(key=lambda x:(x[1],x[0])) # 회의시간이 짧은 것부터 정렬\n",
        "cnt=1 #처음부터 1가지 존재\n",
        "\n",
        "now=x[0][1] #현재 회의 마감시간 정의\n",
        "# 다음 회의 시작 시간이 현재 회의 마감시간보다 크거나 같으면 cnt+1\n",
        "for i in range(1, n):\n",
        "  if x[i][0]>=now:\n",
        "    cnt+=1\n",
        "    now=x[i][1]\n",
        "\n",
        "print(cnt)"
      ],
      "metadata": {
        "colab": {
          "base_uri": "https://localhost:8080/"
        },
        "id": "RZ91qiLBs1zx",
        "outputId": "6b90225a-36ec-4d9a-9bbd-30a518acf07f"
      },
      "execution_count": null,
      "outputs": [
        {
          "output_type": "stream",
          "name": "stdout",
          "text": [
            "11\n",
            "1 4\n",
            "3 5\n",
            "0 6\n",
            "5 7\n",
            "3 8\n",
            "5 9\n",
            "6 10\n",
            "8 11\n",
            "8 12\n",
            "2 13\n",
            "12 14\n",
            "4\n"
          ]
        }
      ]
    },
    {
      "cell_type": "markdown",
      "source": [
        "### 19598_최소 회의실 개수"
      ],
      "metadata": {
        "id": "o9deVSKZs23W"
      }
    },
    {
      "cell_type": "code",
      "source": [
        "n = int(input())\n",
        "time=[]\n",
        "# 시작시간이랑 종료시간을 1,-1로 구분하여 리스트에 저장\n",
        "for i in range(0,n):\n",
        "  start,end = map(int, input().split())\n",
        "  time.append([start,1]) \n",
        "  time.append([end,-1])\n",
        "\n",
        "time.sort() # 시작 시간을 기준으로 오름차순 정렬\n",
        "\n",
        "room=0\n",
        "cnt=0\n",
        "# 시작 시간이 되면 cnt는 +1이 되고, 아니면 -1\n",
        "# room에는 cnt와 room중에 큰 값이 저장 (어차피 cnt는 결국 0이 됨)\n",
        "for x,y in time:\n",
        "  cnt=cnt+y\n",
        "  room=max(cnt,room)\n",
        "\n",
        "print(room)"
      ],
      "metadata": {
        "id": "B3Pq-BYptH66",
        "colab": {
          "base_uri": "https://localhost:8080/"
        },
        "outputId": "303e38c7-3abc-4335-ce6b-3433aa7f1980"
      },
      "execution_count": 1,
      "outputs": [
        {
          "output_type": "stream",
          "name": "stdout",
          "text": [
            "3\n",
            "0 40\n",
            "15 30\n",
            "5 10\n",
            "2\n"
          ]
        }
      ]
    },
    {
      "cell_type": "markdown",
      "source": [
        "### 1715_카드정렬하기"
      ],
      "metadata": {
        "id": "Fuczw1shs3Ry"
      }
    },
    {
      "cell_type": "code",
      "source": [
        "# 두번째 값을 제외하고는 (n-i)번씩 계산됨.(옳은 건진 모르겠음)\n",
        "# heapq 사용해보기,,\n",
        "n = int(input())\n",
        "card=[]\n",
        "for i in range(n):\n",
        "  card.append(int(input()))\n",
        "\n",
        "card.sort()\n",
        "\n",
        "# 2번째 값만 한 번 더 등장\n",
        "sum=card[1]\n",
        "\n",
        "for i in range(1,n):\n",
        "  sum += card[i]*(n-i)\n",
        "\n",
        "print(sum)"
      ],
      "metadata": {
        "id": "3smnhCLftHMQ",
        "colab": {
          "base_uri": "https://localhost:8080/"
        },
        "outputId": "a3ffc083-4348-48f6-c849-a36f668fbd27"
      },
      "execution_count": null,
      "outputs": [
        {
          "output_type": "stream",
          "name": "stdout",
          "text": [
            "3\n",
            "10\n",
            "20\n",
            "40\n",
            "100\n"
          ]
        }
      ]
    },
    {
      "cell_type": "markdown",
      "source": [
        "### 2812_크게 만들기"
      ],
      "metadata": {
        "id": "mLZ1mTz7s40Z"
      }
    },
    {
      "cell_type": "code",
      "source": [
        "# 스택이용해서 풀기\n",
        "# 앞자리 수부터 비교해서 제거해야함\n",
        "n,k = map(int, input().split())\n",
        "num=list(input().strip())\n",
        "\n",
        "cnt=k\n",
        "stack=[]\n",
        "# cnt가 0보다 크거나 stack에 무언가 있거나, \n",
        "# 스택 마지막 수가 num리스트 수보다 작거나\n",
        "for i in range(n):\n",
        "  # 스택 끝 수가 현재 num 수보다 작으면 제거\n",
        "  while cnt>0 and stack and stack[-1]<num[i]: \n",
        "      stack.pop()\n",
        "      cnt-=1\n",
        "    \n",
        "  stack.append(num[i])\n",
        "\n",
        "result=\"\"    \n",
        "stack=stack[:n-k] # 실행완료가 되어도 k가 남았을수도 있는데,, 음\n",
        "# num 리스트에 있는 모든 값이 실행되려면 (n-k)라고 해야함..(왜?)\n",
        "for i in stack:\n",
        "  result+=str(i)\n",
        "print(result)"
      ],
      "metadata": {
        "id": "kU2dVZrTtFr3",
        "colab": {
          "base_uri": "https://localhost:8080/"
        },
        "outputId": "c7cefe2c-f903-45f0-fea1-e8ea7c68d194"
      },
      "execution_count": null,
      "outputs": [
        {
          "output_type": "stream",
          "name": "stdout",
          "text": [
            "7 3\n",
            "1231234\n",
            "3234\n"
          ]
        }
      ]
    },
    {
      "cell_type": "markdown",
      "source": [
        "0303"
      ],
      "metadata": {
        "id": "DsmWbszBPB4w"
      }
    },
    {
      "cell_type": "code",
      "source": [],
      "metadata": {
        "id": "FqjaMfSixvh8"
      },
      "execution_count": null,
      "outputs": []
    }
  ]
}