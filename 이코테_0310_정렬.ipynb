{
  "nbformat": 4,
  "nbformat_minor": 0,
  "metadata": {
    "colab": {
      "provenance": [],
      "authorship_tag": "ABX9TyM+uADKLlgpbikYeXMtoYyR",
      "include_colab_link": true
    },
    "kernelspec": {
      "name": "python3",
      "display_name": "Python 3"
    },
    "language_info": {
      "name": "python"
    }
  },
  "cells": [
    {
      "cell_type": "markdown",
      "metadata": {
        "id": "view-in-github",
        "colab_type": "text"
      },
      "source": [
        "<a href=\"https://colab.research.google.com/github/Yu-jiwon/codingtest_study/blob/main/%EC%9D%B4%EC%BD%94%ED%85%8C_0310_%EC%A0%95%EB%A0%AC.ipynb\" target=\"_parent\"><img src=\"https://colab.research.google.com/assets/colab-badge.svg\" alt=\"Open In Colab\"/></a>"
      ]
    },
    {
      "cell_type": "code",
      "execution_count": null,
      "metadata": {
        "colab": {
          "base_uri": "https://localhost:8080/"
        },
        "id": "qGu1ZSEhAiG2",
        "outputId": "d6c5de90-dd71-40f0-951b-e2613275b189"
      },
      "outputs": [
        {
          "name": "stdout",
          "output_type": "stream",
          "text": [
            "1\n",
            "a 30 40 50\n"
          ]
        },
        {
          "output_type": "execute_result",
          "data": {
            "text/plain": [
              "[('a', 30, 40, 50)]"
            ]
          },
          "metadata": {},
          "execution_count": 7
        }
      ],
      "source": [
        "# 국영수\n",
        "n = int(input())\n",
        "student=[]\n",
        "for i in range(n):\n",
        "  student.append((input().split()))\n",
        "  \n",
        "\n",
        "array = sorted(student, key=lambda x:(-int(x[1]), int(x[2]), -int(x[3]), x[0])) #점수 높은 순서대로->-를 앞에 붙임\n",
        "\n",
        "for x in array:\n",
        "  print(x[0])"
      ]
    },
    {
      "cell_type": "code",
      "source": [
        "# 안테나(시간초과 실패)\n",
        "n = int(input())\n",
        "\n",
        "house=(list(map(int, input().split())))\n",
        "\n",
        "ant=[]\n",
        "\n",
        "for h in range(len(house)):\n",
        "  sum=0\n",
        "  for a in range(len(house)):\n",
        "    sum+=(abs(house[h]-house[a]))\n",
        "  ant.append((house[h],sum))\n",
        "\n",
        "ant=sorted(ant, key=lambda x:(x[1],x[0]))\n",
        "\n",
        "print(ant[0][0])"
      ],
      "metadata": {
        "colab": {
          "base_uri": "https://localhost:8080/"
        },
        "id": "x8-loQRvBJwA",
        "outputId": "fb55cafa-8915-48f1-ff7f-28d100d8ed73"
      },
      "execution_count": null,
      "outputs": [
        {
          "output_type": "stream",
          "name": "stdout",
          "text": [
            "4\n",
            "5 1 7 9\n",
            "5\n"
          ]
        }
      ]
    },
    {
      "cell_type": "code",
      "source": [
        "# 안테나(답지)\n",
        "n = int(input())\n",
        "data=list(map(int, input().split()))\n",
        "data.sort()\n",
        "\n",
        "print(data[(n-1)//2])"
      ],
      "metadata": {
        "colab": {
          "base_uri": "https://localhost:8080/"
        },
        "id": "uQzq-S1kUSM5",
        "outputId": "7cbfc80e-d1c7-4144-d4de-88398570ef22"
      },
      "execution_count": null,
      "outputs": [
        {
          "output_type": "stream",
          "name": "stdout",
          "text": [
            "4\n",
            "5 1 7 9\n",
            "5\n"
          ]
        }
      ]
    },
    {
      "cell_type": "code",
      "source": [
        "# 실패율\n",
        "def solution(N, stages):\n",
        "    all=0\n",
        "    fail=0\n",
        "    sum=0\n",
        "    stage=[]\n",
        "    answer=''\n",
        "    for i in range(1,N+1):\n",
        "        for j in stages:\n",
        "            if i==j:\n",
        "                fail+=1\n",
        "                all+=1\n",
        "            if i<j:\n",
        "                all+=1\n",
        "        if fail==0:\n",
        "            sum=0\n",
        "        else:\n",
        "            sum=fail/all\n",
        "        all=0\n",
        "        fail=0\n",
        "        stage.append((i,sum))\n",
        "    stage= sorted(stage, key=lambda x:(-x[1],x[0]))\n",
        "    answer=[i[0] for i in stage]\n",
        "    return answer\n",
        "\n",
        "N=5\n",
        "stages=[2, 1, 2, 6, 2, 4, 3, 3]\n",
        "solution(N,stages)"
      ],
      "metadata": {
        "colab": {
          "base_uri": "https://localhost:8080/"
        },
        "id": "Dn6QQl_Hikw3",
        "outputId": "20c8785d-edda-4dd5-d263-0f28d8787d23"
      },
      "execution_count": null,
      "outputs": [
        {
          "output_type": "execute_result",
          "data": {
            "text/plain": [
              "[3, 4, 2, 1, 5]"
            ]
          },
          "metadata": {},
          "execution_count": 59
        }
      ]
    },
    {
      "cell_type": "code",
      "source": [
        "# 카드 정렬하기\n"
      ],
      "metadata": {
        "id": "QNyd0qFDBNf2"
      },
      "execution_count": null,
      "outputs": []
    }
  ]
}