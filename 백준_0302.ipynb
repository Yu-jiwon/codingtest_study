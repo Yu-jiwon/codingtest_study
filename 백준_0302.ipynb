{
  "nbformat": 4,
  "nbformat_minor": 0,
  "metadata": {
    "colab": {
      "provenance": [],
      "authorship_tag": "ABX9TyOs62FzdihbAMCpmn1HHbsr",
      "include_colab_link": true
    },
    "kernelspec": {
      "name": "python3",
      "display_name": "Python 3"
    },
    "language_info": {
      "name": "python"
    }
  },
  "cells": [
    {
      "cell_type": "markdown",
      "metadata": {
        "id": "view-in-github",
        "colab_type": "text"
      },
      "source": [
        "<a href=\"https://colab.research.google.com/github/Yu-jiwon/codingtest_study/blob/main/%EB%B0%B1%EC%A4%80_0302.ipynb\" target=\"_parent\"><img src=\"https://colab.research.google.com/assets/colab-badge.svg\" alt=\"Open In Colab\"/></a>"
      ]
    },
    {
      "cell_type": "markdown",
      "source": [
        "### 20300_서강근육맨"
      ],
      "metadata": {
        "id": "CW5EH3XXscv8"
      }
    },
    {
      "cell_type": "code",
      "execution_count": 8,
      "metadata": {
        "colab": {
          "base_uri": "https://localhost:8080/"
        },
        "id": "y6wf7VlvsUDD",
        "outputId": "f617f698-641b-49a8-f778-6822763ef2e5"
      },
      "outputs": [
        {
          "output_type": "stream",
          "name": "stdout",
          "text": [
            "4\n",
            "1 2 3 4\n",
            "[5, 5]\n"
          ]
        }
      ],
      "source": [
        "n = int(input())\n",
        "t = list(map(int, input().split()))\n",
        "t.sort() #운동기구를 오름차순으로 정리\n",
        "m=[]\n",
        "\n",
        "# n이 짝수면, 앞에서 i번째와 뒤에서 i-1번째를 더함\n",
        "# 더한 수들을 배열로 저장 -> max값 출력 \n",
        "if n%2==0:\n",
        "  for i in range(0,int(n/2)):\n",
        "    m.append(t[i]+t[n-i-1])\n",
        "\n",
        "# n이 홀수면, 앞에서 i번째와 뒤에서 i-2번째를 더하고, 마지막 수를 따로 저장\n",
        "# 더한 수들을 배열로 저장 -> max값 출력 \n",
        "else:\n",
        "  for i in range(0,int((n-1)/2)):\n",
        "    m.append(t[i]+t[n-i-2])\n",
        "  m.append(t[n-1])\n",
        "  \n",
        "print(max(m))"
      ]
    },
    {
      "cell_type": "markdown",
      "source": [
        "### 1541_잃어버린 괄호"
      ],
      "metadata": {
        "id": "lv5EZqkZsdSX"
      }
    },
    {
      "cell_type": "code",
      "source": [
        "x = input().split('-') # - 연산이 가장 마지막에 이루어져야 함\n",
        "\n",
        "sum = 0\n",
        "\n",
        "# 첫번째 수는 무조건 더하기\n",
        "for i in x[0].split('+'):\n",
        "  sum+=int(i)\n",
        "  \n",
        "# 두번째 수부터는 빼기(+가 포함된 것은 분리하여 빼기)\n",
        "for i in range(1,len(x)):\n",
        "  for j in x[i].split('+'):\n",
        "    sum-=int(j)\n",
        "\n",
        "print(sum)"
      ],
      "metadata": {
        "colab": {
          "base_uri": "https://localhost:8080/"
        },
        "id": "-sJ_N5n5tIUg",
        "outputId": "cab3b7de-d2fe-4777-8c7e-23443810ed29"
      },
      "execution_count": 25,
      "outputs": [
        {
          "name": "stdout",
          "output_type": "stream",
          "text": [
            "00009-00009\n"
          ]
        },
        {
          "output_type": "execute_result",
          "data": {
            "text/plain": [
              "0"
            ]
          },
          "metadata": {},
          "execution_count": 25
        }
      ]
    },
    {
      "cell_type": "markdown",
      "source": [
        "### 1931_회의실 배정"
      ],
      "metadata": {
        "id": "lF--4NgXsdiZ"
      }
    },
    {
      "cell_type": "code",
      "source": [
        "n = int(input())\n",
        "x=[]\n",
        "for i in range(0,n):\n",
        "  x.append(list(map(int, input().split())))\n",
        "x"
      ],
      "metadata": {
        "colab": {
          "base_uri": "https://localhost:8080/"
        },
        "id": "RZ91qiLBs1zx",
        "outputId": "17877621-0410-49ac-c21d-9305ccc3da00"
      },
      "execution_count": 30,
      "outputs": [
        {
          "name": "stdout",
          "output_type": "stream",
          "text": [
            "3\n",
            "1 4\n",
            "3 5\n",
            "0 6\n"
          ]
        },
        {
          "output_type": "execute_result",
          "data": {
            "text/plain": [
              "[[1, 4], [3, 5], [0, 6]]"
            ]
          },
          "metadata": {},
          "execution_count": 30
        }
      ]
    },
    {
      "cell_type": "markdown",
      "source": [
        "### 19598_최소 회의실 개수"
      ],
      "metadata": {
        "id": "o9deVSKZs23W"
      }
    },
    {
      "cell_type": "code",
      "source": [],
      "metadata": {
        "id": "B3Pq-BYptH66"
      },
      "execution_count": null,
      "outputs": []
    },
    {
      "cell_type": "markdown",
      "source": [
        "### 1715_카드정렬하기"
      ],
      "metadata": {
        "id": "Fuczw1shs3Ry"
      }
    },
    {
      "cell_type": "code",
      "source": [],
      "metadata": {
        "id": "3smnhCLftHMQ"
      },
      "execution_count": null,
      "outputs": []
    },
    {
      "cell_type": "markdown",
      "source": [
        "### 2812_크게 만들기"
      ],
      "metadata": {
        "id": "mLZ1mTz7s40Z"
      }
    },
    {
      "cell_type": "code",
      "source": [],
      "metadata": {
        "id": "kU2dVZrTtFr3"
      },
      "execution_count": null,
      "outputs": []
    }
  ]
}