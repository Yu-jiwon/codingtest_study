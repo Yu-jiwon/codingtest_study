{
  "nbformat": 4,
  "nbformat_minor": 0,
  "metadata": {
    "colab": {
      "provenance": [],
      "authorship_tag": "ABX9TyMZjwolrgO6WhmFl2+zZzGc",
      "include_colab_link": true
    },
    "kernelspec": {
      "name": "python3",
      "display_name": "Python 3"
    },
    "language_info": {
      "name": "python"
    }
  },
  "cells": [
    {
      "cell_type": "markdown",
      "metadata": {
        "id": "view-in-github",
        "colab_type": "text"
      },
      "source": [
        "<a href=\"https://colab.research.google.com/github/Yu-jiwon/codingtest_study/blob/main/%EC%9D%B4%EC%BD%94%ED%85%8C_%EA%B7%B8%EB%9E%98%ED%94%84_0324.ipynb\" target=\"_parent\"><img src=\"https://colab.research.google.com/assets/colab-badge.svg\" alt=\"Open In Colab\"/></a>"
      ]
    },
    {
      "cell_type": "code",
      "execution_count": null,
      "metadata": {
        "colab": {
          "base_uri": "https://localhost:8080/"
        },
        "id": "nYPrIgrpqz4Q",
        "outputId": "388f8690-68be-45da-8e5b-83d6c2be5138"
      },
      "outputs": [
        {
          "output_type": "stream",
          "name": "stdout",
          "text": [
            "5 4\n",
            "0 1 0 1 1\n",
            "1 0 1 1 0\n",
            "0 1 0 0 0\n",
            "1 1 0 0 0\n",
            "1 0 0 0 0\n",
            "2 3 4 3\n",
            "YES\n"
          ]
        }
      ],
      "source": [
        "# 여행계획\n",
        "def find_parent(parent, x):\n",
        "  if parent[x] !=x:\n",
        "    parent[x]= find_parent(parent, parent[x])\n",
        "  return parent[x]\n",
        "\n",
        "def union(parent,a,b):\n",
        "  a = find_parent(parent,a)\n",
        "  b = find_parent(parent,b)\n",
        "  if a<b:\n",
        "    parent[b]=a\n",
        "  else:\n",
        "    parent[a]=b\n",
        "\n",
        "n,m = map(int, input().split())\n",
        "parent=[0]*(n+1) #부모노드 초기화\n",
        "\n",
        "for i in range(1,n+1):\n",
        "  parent[i]=i #자기 자신으로 초기화\n",
        "\n",
        "for i in range(n):\n",
        "  data = list(map(int, input().split())) \n",
        "  for j in range(n):\n",
        "    if data[j]==1: #입력 값중에 1이 나오면(연결이 가능하다는 뜻)\n",
        "      union(parent, i+1, j+1) #함수 수행\n",
        "\n",
        "plan = list(map(int, input().split()))\n",
        "result= True\n",
        "\n",
        "for i in range(m-1): #여행계획 탐색\n",
        "  if find_parent(parent, plan[i])!= find_parent(parent, plan[i+1]): #현재 노드의 부모와 다음 노드의 부모가 다르면 여행 불가\n",
        "    result=False\n",
        "\n",
        "if result:\n",
        "  print(\"YES\")\n",
        "else:\n",
        "  print(\"NO\")"
      ]
    },
    {
      "cell_type": "code",
      "source": [
        "# 탑승구\n",
        "g = int(input())\n",
        "p = int(input())\n",
        "\n",
        "parent = [0]*(g+1)\n",
        "for i in range(1,g+1):\n",
        "  parent[i]=i  \n",
        "\n",
        "def find_parent(parent,x):\n",
        "  if parent[x]!=x:\n",
        "    parent[x] = find_parent(parent, parent[x])\n",
        "  return parent[x]\n",
        "\n",
        "def union(parent, a, b):\n",
        "  a = find_parent(parent, a)\n",
        "  b = find_parent(parent, b)\n",
        "  if a<b:\n",
        "    parent[b]=a\n",
        "  else:\n",
        "    parent[a]=b\n",
        "\n",
        "result = 0 #도킹개수\n",
        "for _ in range(p):\n",
        "  data = find_parent(parent, int(input()))\n",
        "  if data == 0: #부모노드가 0이라면 더이상 도킹 불가\n",
        "    break\n",
        "  union(parent, data, data-1) #부모노드가 0이 아니라면 왼쪽 집합과 합치기\n",
        "  result+=1 #도킹 개수 증가\n",
        "print(result)"
      ],
      "metadata": {
        "colab": {
          "base_uri": "https://localhost:8080/"
        },
        "id": "LkkYE__n2YRj",
        "outputId": "65c42555-8476-4536-fd06-bb9ae88eda46"
      },
      "execution_count": null,
      "outputs": [
        {
          "output_type": "stream",
          "name": "stdout",
          "text": [
            "4\n",
            "3\n",
            "4\n",
            "1\n",
            "1\n",
            "2\n"
          ]
        }
      ]
    },
    {
      "cell_type": "code",
      "source": [
        "# 어두운길\n",
        "\n",
        "def find_parent(parent,x):\n",
        "  if parent[x]!=x:\n",
        "    parent[x]=find_parent(parent,parent[x])\n",
        "  return parent[x]\n",
        "\n",
        "def union(parent, a, b):\n",
        "  a = find_parent(parent,a)\n",
        "  b = find_parent(parent,b)\n",
        "  if a<b:\n",
        "    parent[b]=a\n",
        "  else:\n",
        "    parent[a]=b\n",
        "\n",
        "n,m = map(int, input().split())\n",
        "\n",
        "parent=[0]*(n+1)\n",
        "for i in range(1,n+1):\n",
        "  parent[i]=i\n",
        "\n",
        "edge=[] #간선을 담을 리스트\n",
        "result=0 #최종 비용 변수\n",
        "\n",
        "for _ in range(m):\n",
        "  x,y,z=map(int, input().split())\n",
        "  edge.append((z,x,y)) #선과 비용을 담음\n",
        "\n",
        "edge.sort() #비용순서대로 정렬\n",
        "total = 0\n",
        "for i in edge:\n",
        "  cost,a,b = i\n",
        "  total+=cost #전체 비용\n",
        "\n",
        "  if find_parent(parent,a) != find_parent(parent,b): #사이클이 발생하지 않으면\n",
        "    union(parent,a,b) #집합에 포함\n",
        "    result+=cost #그때의 비용 \n",
        "\n",
        "print(total-result) #절약 가능 금액"
      ],
      "metadata": {
        "id": "YSWRkElV2aOb",
        "colab": {
          "base_uri": "https://localhost:8080/"
        },
        "outputId": "9187475d-59d7-4fcc-b06f-483239625a6c"
      },
      "execution_count": null,
      "outputs": [
        {
          "output_type": "stream",
          "name": "stdout",
          "text": [
            "7 11\n",
            "0 1 7\n",
            "0 3 5\n",
            "1 2 8\n",
            "1 3 9\n",
            "1 4 7\n",
            "2 4 5\n",
            "3 4 15\n",
            "3 5 6\n",
            "4 5 8\n",
            "4 6 9\n",
            "5 6 11\n",
            "51\n"
          ]
        }
      ]
    }
  ]
}