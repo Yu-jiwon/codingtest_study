{
  "nbformat": 4,
  "nbformat_minor": 0,
  "metadata": {
    "colab": {
      "provenance": [],
      "authorship_tag": "ABX9TyPfxMgejMck1DLE6/X61gcy",
      "include_colab_link": true
    },
    "kernelspec": {
      "name": "python3",
      "display_name": "Python 3"
    },
    "language_info": {
      "name": "python"
    }
  },
  "cells": [
    {
      "cell_type": "markdown",
      "metadata": {
        "id": "view-in-github",
        "colab_type": "text"
      },
      "source": [
        "<a href=\"https://colab.research.google.com/github/Yu-jiwon/codingtest_study/blob/main/%EC%9D%B4%EC%BD%94%ED%85%8C_0303_%EA%B5%AC%ED%98%84.ipynb\" target=\"_parent\"><img src=\"https://colab.research.google.com/assets/colab-badge.svg\" alt=\"Open In Colab\"/></a>"
      ]
    },
    {
      "cell_type": "code",
      "execution_count": 26,
      "metadata": {
        "colab": {
          "base_uri": "https://localhost:8080/"
        },
        "id": "Pq4tUQNITK3g",
        "outputId": "7e65caf3-213f-4a31-8562-98aa170f60aa"
      },
      "outputs": [
        {
          "output_type": "stream",
          "name": "stdout",
          "text": [
            "123123\n",
            "LUCKY\n"
          ]
        }
      ],
      "source": [
        "# 럭키스트레이트\n",
        "n = input()\n",
        "left=0\n",
        "right=0\n",
        "# 문자열을 2로 나누어 left, right에 각각 합쳐서 넣음\n",
        "for i in range(int(len(n)/2)):\n",
        "  left+=int(n[i])\n",
        "  right+=int(n[int(len(n)/2)+i])\n",
        "\n",
        "# 좌,우의 합이 같으면 lucky, 아니면 ready\n",
        "if left==right:\n",
        "  print(\"LUCKY\")\n",
        "else:\n",
        "  print(\"READY\")\n"
      ]
    },
    {
      "cell_type": "code",
      "source": [
        "#문자열 재정렬\n",
        "s = input()\n",
        "num=[]\n",
        "alpha=[]\n",
        "for i in s:\n",
        "  if i.isalpha(): #isalpha로 문자인지 숫자인지 구분\n",
        "    alpha.append(i)\n",
        "  else:\n",
        "    num.append(i)\n",
        "alpha.sort() #알파벳은 정렬\n",
        "sum=0\n",
        "result=\"\"\n",
        "for i in num:\n",
        "  sum+=int(i) #숫자는 더하기\n",
        "for i in alpha:\n",
        "  result+=str(i) \n",
        "\n",
        "result+=str(sum)#정렬한것과 더한 값을 합침\n",
        "print(result)"
      ],
      "metadata": {
        "colab": {
          "base_uri": "https://localhost:8080/"
        },
        "id": "LJTuNrmSVmt9",
        "outputId": "07bd2b0c-b745-4c4d-a25a-1e512f644258"
      },
      "execution_count": null,
      "outputs": [
        {
          "output_type": "stream",
          "name": "stdout",
          "text": [
            "K1KA5CB7\n",
            "ABCKK13\n"
          ]
        }
      ]
    },
    {
      "cell_type": "code",
      "source": [
        "# 문자열 압축\n",
        "s = input()\n",
        "result=len(s)\n",
        "\n",
        "for i in range(1,len(s)//2+1): #문자열의 길이를 반으로 나눔(압축은 1/2배까지만 가능)\n",
        "  prev = s[0:i] #자른 길이만큼 prev에 저장\n",
        "  com=\"\" #압축한 문자가 저장될 문자열\n",
        "  cnt=1 #1이 디폴트\n",
        "  #전체 문자열 탐색\n",
        "  for j in range(i,len(s),i):\n",
        "    if prev==s[j:j+i]: #prev와 다음 길이만큼의 문자가 같으면 cnt+1\n",
        "      cnt+=1\n",
        "    else: #반복되지 않을때, cnt 합이 1이면 숫자 빼고, 아니면 숫자까지 합해서 저장\n",
        "      if cnt>1: \n",
        "        com+=str(cnt)+prev\n",
        "      else:\n",
        "        com+=prev\n",
        "      prev=s[j:j+i] # 다음 문자열을 저장\n",
        "      cnt=1 #cnt초기화\n",
        "  # 남은 문자열 처리\n",
        "  if cnt>1: \n",
        "    com+=str(cnt)+prev\n",
        "  else:\n",
        "    com+=prev\n",
        "  result = min(result,len(com)) #여러 길이만큼 압축한 것중 최소 값 출력\n",
        "print(result)"
      ],
      "metadata": {
        "colab": {
          "base_uri": "https://localhost:8080/"
        },
        "id": "cGoETlq5X7xb",
        "outputId": "986c67e2-a423-4f3d-f822-c5352169f1db"
      },
      "execution_count": null,
      "outputs": [
        {
          "output_type": "stream",
          "name": "stdout",
          "text": [
            "aabbaccc\n",
            "7\n"
          ]
        }
      ]
    },
    {
      "cell_type": "code",
      "source": [
        "# 자물쇠와 열쇠\n",
        "key=[[0, 0, 0], [1, 0, 0], [0, 1, 1]]\n",
        "lock=[[1, 1, 1], [1, 1, 0], [1, 0, 1]]\n",
        "def rotate_90(a):\n",
        "  n = len(a)\n",
        "  m = len(a[0])\n",
        "  result = [[0]*n for _ in range(m)]\n",
        "  for i in range(n):\n",
        "    for j in range(m):\n",
        "      result[j][n-i-1] = a[i][j]\n",
        "  return result\n",
        "\n",
        "def check(new_lock):\n",
        "  lock_length=len(new_lock)//3\n",
        "  for i in range(lock_length, lock_length*2):\n",
        "    for j in range(lock_length, lock_length*2):\n",
        "      if new_lock[i][j] != 1:\n",
        "        return False\n",
        "  return True\n",
        "\n",
        "def solution(key,lock):\n",
        "  n = len(lock)\n",
        "  m = len(key)\n",
        "  new_lock = [[0]*(n*3) for _ in range(n*3)]\n",
        "  for i in range(n):\n",
        "    for j in range(n):\n",
        "      new_lock[i+n][j+n]=lock[i][j]\n",
        "  for rotation in range(4):\n",
        "    key=rotate_90(key)\n",
        "    for x in range(n*2):\n",
        "      for y in range(n*2):\n",
        "        for i in range(m):\n",
        "          for j in range(m):\n",
        "            new_lock[x+i][y+j]+=key[i][j]\n",
        "        if check(new_lock) == True:\n",
        "          return True\n",
        "        for i in range(m):\n",
        "          for j in range(m):\n",
        "            new_lock[x+i][y+j]-=key[i][j]\n",
        "  return False\n",
        "print(solution(key,lock))"
      ],
      "metadata": {
        "id": "PO0yWT7oefEX",
        "colab": {
          "base_uri": "https://localhost:8080/"
        },
        "outputId": "7f200666-eea5-4d1c-e488-40ecdca84cc4"
      },
      "execution_count": 25,
      "outputs": [
        {
          "output_type": "stream",
          "name": "stdout",
          "text": [
            "True\n"
          ]
        }
      ]
    },
    {
      "cell_type": "code",
      "source": [
        "# 뱀\n",
        "n = int(input()) \n",
        "k = int(input())\n",
        "data = [[0]*(n+1) for _ in range(n+1)] #맵 기본 정보\n",
        "info=[] #방향 정보\n",
        "\n",
        "#사과\n",
        "for i in range(k):\n",
        "  a,b = map(int,input().split())\n",
        "  data[a][b]=1\n",
        "\n",
        "#회전정보\n",
        "turn=int(input())\n",
        "for i in range(turn):\n",
        "  x,c = input().split()\n",
        "  info.append((int(x),c))\n",
        "\n",
        "# 동남서북(90도씩 회전하기 때문)\n",
        "dx=[0,1,0,-1]\n",
        "dy=[1,0,-1,0]\n",
        "\n",
        "x,y=1,1 #뱀 처음 위치\n",
        "data[x][y]=2 #뱀이 있는 곳을 2\n",
        "direction=0 #처음 뱀 방향(동쪽)\n",
        "time=0 #시간\n",
        "index=0 #다음에 회전할 정보\n",
        "tail=[(x,y)] #몸통,꼬리 위치\n",
        "\n",
        "while True:\n",
        "  #뱀의 위치를 한칸 앞으로\n",
        "  nx=x+dx[direction]\n",
        "  ny=y+dy[direction]\n",
        "  #맵 범위 안에 있고, 몸통, 꼬리가 없는 위치라면\n",
        "  if nx>=1 and ny>=1 and nx<=n and ny<=n and data[nx][ny]!=2:\n",
        "    # 그 위치에 사과가 없다면\n",
        "    if data[nx][ny]==0:\n",
        "      data[nx][ny]==2 #뱀 머리가 위치하므로 2\n",
        "      tail.append((nx,ny)) #꼬리 위치 리스트에 위치 추가\n",
        "      px,py=tail.pop(0) #가장 먼저 위치한(꼬리)위치정보를 pop\n",
        "      data[px][py]=0 #pop한 위치를 0(몸길이 줄어들었으니까)\n",
        "    # 사과가 있다면\n",
        "    if data[nx][ny]==1:\n",
        "      # 뱀 머리가 위치하므로 2\n",
        "      data[nx][ny]=2\n",
        "      # 몸통에 현재 위치 추가\n",
        "      tail.append((nx,ny))\n",
        "  # 뱀이 벽이나 몸통에 부딫힐 경우\n",
        "  else:\n",
        "    time+=1 #일단 시간 추가\n",
        "    break #실행종료\n",
        "  #다음 위치로 머리 이동\n",
        "  x,y=nx,ny \n",
        "  time+=1 #이동했으니까 시간 추가\n",
        "  # 회전할 시간이 됐다면\n",
        "  if index<1 and time==info[index][0]:\n",
        "    # 다음 회전 정보가 L인경우\n",
        "    if info[index][0]=='L':\n",
        "      direction=(direction-1)%4 #dx, dy의 []값이 줄어들어야함\n",
        "    else:\n",
        "      direction=(direction+1)%4 \n",
        "    index+=1 #다음 회전 정보로 변환\n",
        "print(time)"
      ],
      "metadata": {
        "id": "zQLXmLfOjiqf",
        "colab": {
          "base_uri": "https://localhost:8080/"
        },
        "outputId": "457b2a05-77c4-4982-b70d-b91e007b59fb"
      },
      "execution_count": 6,
      "outputs": [
        {
          "output_type": "stream",
          "name": "stdout",
          "text": [
            "6\n",
            "3\n",
            "3 4\n",
            "2 5\n",
            "5 3\n",
            "3\n",
            "3 D\n",
            "15 L\n",
            "17 D\n",
            "9\n"
          ]
        }
      ]
    },
    {
      "cell_type": "code",
      "source": [
        "# 기둥과 보 설치\n",
        "n=5\n",
        "build_frame=[[0,0,0,1],[2,0,0,1],[4,0,0,1],[0,1,1,1],[1,1,1,1],[2,1,1,1],[3,1,1,1],[2,0,0,0],[1,1,1,0],[2,2,0,1]]\n",
        "#설치 가능한지 확인\n",
        "def possible(answer):\n",
        "    for x,y,stuff in answer:\n",
        "        if stuff==0: #기둥이면\n",
        "            if y==0 or [x-1,y,1] in answer or [x,y,1] in answer or [x,y-1,0] in answer: #기둥 설치 조건에 따라(바닥 위에 있거나 한쪽 끝부분 위에 있거나, 다른 기둥에 있어야함)\n",
        "                continue \n",
        "            return False\n",
        "        else: # 보이면\n",
        "            if [x,y-1,0] in answer or [x+1,y-1,0] in answer or ([x-1,y,1] in answer and [x+1,y,1] in answer): # 보 설치 조건(한쪽이 기둥에 있거나, 양쪽이 다른 보와 동시에 연결)\n",
        "                continue\n",
        "            return False\n",
        "    return True\n",
        "        \n",
        "def solution(n, build_frame):\n",
        "    answer = []\n",
        "    for frame in build_frame: #build_frame의 값들을 불러옴\n",
        "        x,y,stuff,operate=frame\n",
        "        if operate==0: #삭제이면\n",
        "            answer.remove([x,y,stuff]) #일단 제거\n",
        "            if not possible(answer): #제거가 가능하지 않으면\n",
        "                answer.append([x,y,stuff]) #다시 추가\n",
        "        if operate==1: #설치이면\n",
        "            answer.append([x,y,stuff]) #일단 추가\n",
        "            if not possible(answer): #설치가 가능하지 않다면\n",
        "                answer.remove([x,y,stuff]) #제거\n",
        "                \n",
        "    return sorted(answer) #정렬해야함(입력값이 뒤죽박죽이라 출력도 정렬이 안됨)\n",
        "print(solution(n,build_frame))"
      ],
      "metadata": {
        "colab": {
          "base_uri": "https://localhost:8080/"
        },
        "id": "TMEpOl_0ZknG",
        "outputId": "adb8ee8f-6f9c-4663-d99e-3fc38b9ee794"
      },
      "execution_count": 20,
      "outputs": [
        {
          "output_type": "stream",
          "name": "stdout",
          "text": [
            "[[0, 0, 0], [0, 1, 1], [1, 1, 1], [2, 1, 1], [3, 1, 1], [4, 0, 0]]\n"
          ]
        }
      ]
    },
    {
      "cell_type": "code",
      "source": [
        "# 치킨배달\n",
        "from itertools import combinations # 조합 사용\n",
        "n,m = map(int,input().split())\n",
        "house, chicken=[],[]\n",
        "for i in range(n):\n",
        "  data=list(map(int,input().split()))\n",
        "  # 집과 치킨집 위치 정보 따로 저장\n",
        "  for j in range(n):\n",
        "    if data[j]==1:\n",
        "      house.append((i,j))\n",
        "    if data[j]==2:\n",
        "      chicken.append((i,j))\n",
        "\n",
        "candidate=list(combinations(chicken,m)) # 조합으로 치킨 m개의 리스트를 만듬\n",
        "\n",
        "results=0\n",
        "for hx,hy in house:\n",
        "  temp=1e9 #최소값을 찾기 위해 큰 수를 임의로 저장\n",
        "  for cx,cy in chicken:\n",
        "    temp=min(temp,abs(hx-cx)+abs(hy-cy)) # 집을 기준으로 가장 가까운 치킨집 찾기\n",
        "  results+=temp # 집과 치킨집까지의 거리를 더함\n",
        "\n",
        "result=1e9\n",
        "for c in candidate:\n",
        "  result=min(result,results) # 모든 치킨 조합 중에 거리 합이 작은거 선택\n",
        "\n",
        "print(result)"
      ],
      "metadata": {
        "colab": {
          "base_uri": "https://localhost:8080/"
        },
        "id": "JNLVg-Zcfr_7",
        "outputId": "7bf01919-b25a-4cec-9a58-750661602056"
      },
      "execution_count": 22,
      "outputs": [
        {
          "output_type": "stream",
          "name": "stdout",
          "text": [
            "5 3\n",
            "0 0 1 0 0\n",
            "0 0 2 0 1\n",
            "0 1 2 0 0\n",
            "0 0 1 0 0\n",
            "0 0 0 0 2\n",
            "5\n"
          ]
        }
      ]
    },
    {
      "cell_type": "code",
      "source": [],
      "metadata": {
        "id": "W9R1rqSYt9jl"
      },
      "execution_count": null,
      "outputs": []
    }
  ]
}