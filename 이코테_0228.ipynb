{
  "nbformat": 4,
  "nbformat_minor": 0,
  "metadata": {
    "colab": {
      "provenance": [],
      "authorship_tag": "ABX9TyPxivf+NeOGMGZfHij0hFkQ",
      "include_colab_link": true
    },
    "kernelspec": {
      "name": "python3",
      "display_name": "Python 3"
    },
    "language_info": {
      "name": "python"
    }
  },
  "cells": [
    {
      "cell_type": "markdown",
      "metadata": {
        "id": "view-in-github",
        "colab_type": "text"
      },
      "source": [
        "<a href=\"https://colab.research.google.com/github/Yu-jiwon/codingtest_study/blob/main/%EC%9D%B4%EC%BD%94%ED%85%8C_0228.ipynb\" target=\"_parent\"><img src=\"https://colab.research.google.com/assets/colab-badge.svg\" alt=\"Open In Colab\"/></a>"
      ]
    },
    {
      "cell_type": "code",
      "execution_count": 11,
      "metadata": {
        "id": "V_h6ayytikQ8",
        "colab": {
          "base_uri": "https://localhost:8080/"
        },
        "outputId": "72da830d-61aa-4420-aeac-db1c05736115"
      },
      "outputs": [
        {
          "name": "stdout",
          "output_type": "stream",
          "text": [
            "5\n",
            "2 3 1 2 2\n"
          ]
        },
        {
          "output_type": "execute_result",
          "data": {
            "text/plain": [
              "2"
            ]
          },
          "metadata": {},
          "execution_count": 11
        }
      ],
      "source": [
        "### 01 모험가 길드\n",
        "n = int(input())\n",
        "scare = list(map(int, input().split()))\n",
        "scare.sort()\n",
        "\n",
        "group=0\n",
        "cnt=0\n",
        "\n",
        "for i in scare:\n",
        "  cnt+=1\n",
        "  if cnt>=i:\n",
        "    group+=1\n",
        "    cnt=0\n",
        "\n",
        "group\n"
      ]
    },
    {
      "cell_type": "code",
      "source": [],
      "metadata": {
        "id": "fmeeEm_py5AH"
      },
      "execution_count": null,
      "outputs": []
    },
    {
      "cell_type": "code",
      "source": [
        "### 02 곱하기 혹은 더하기\n",
        "s = input()\n",
        "l = list(s)\n",
        "sum=0\n",
        "for i in range(len(l)):\n",
        "  if sum+int(l[i])>sum*int(l[i]):\n",
        "    sum+=int(l[i])\n",
        "  else :\n",
        "    sum*=int(l[i])\n",
        "sum"
      ],
      "metadata": {
        "id": "draiPubosvSk",
        "colab": {
          "base_uri": "https://localhost:8080/"
        },
        "outputId": "0b1c9a78-68e7-4410-f270-47d3c305e8bc"
      },
      "execution_count": 18,
      "outputs": [
        {
          "name": "stdout",
          "output_type": "stream",
          "text": [
            "02984\n"
          ]
        },
        {
          "output_type": "execute_result",
          "data": {
            "text/plain": [
              "576"
            ]
          },
          "metadata": {},
          "execution_count": 18
        }
      ]
    },
    {
      "cell_type": "code",
      "source": [
        "### 03 문자열 뒤집기\n",
        "s=list(input())\n",
        "zero = 0\n",
        "one = 0\n",
        "\n",
        "# 1로 바꾸기\n",
        "if s[0]=='0':\n",
        "  one+=1\n",
        "for i in range(1,len(s)):\n",
        "  if s[i]!=s[i-1]:\n",
        "    if s[i]=='0':\n",
        "      one+=1\n",
        "\n",
        "# 0으로 바꾸기\n",
        "if s[0]=='1':\n",
        "  zero+=1\n",
        "for i in range(1,len(s)):\n",
        "  if s[i]!=s[i-1]:\n",
        "    if s[i]=='1':\n",
        "      zero+=1\n",
        "\n",
        "min(one,zero)"
      ],
      "metadata": {
        "id": "aH7p3Cy8vkp6",
        "colab": {
          "base_uri": "https://localhost:8080/"
        },
        "outputId": "b67067b1-c02a-4c32-e379-63c45e1fe2c4"
      },
      "execution_count": 21,
      "outputs": [
        {
          "name": "stdout",
          "output_type": "stream",
          "text": [
            "0001100\n"
          ]
        },
        {
          "output_type": "execute_result",
          "data": {
            "text/plain": [
              "1"
            ]
          },
          "metadata": {},
          "execution_count": 21
        }
      ]
    },
    {
      "cell_type": "code",
      "source": [
        "### 04 만들 수 없는 금액\n",
        "n = int(input())\n",
        "coin = list(map(int, input().split()))\n",
        "coin.sort()\n",
        "\n",
        "sum=1\n",
        "\n",
        "for i in coin:\n",
        "  if sum < i:\n",
        "    break\n",
        "  sum+=i\n",
        "\n",
        "sum"
      ],
      "metadata": {
        "colab": {
          "base_uri": "https://localhost:8080/"
        },
        "id": "0YKL8LCT9nj6",
        "outputId": "ea4f0d9e-4f73-4ff3-ceda-3ed1c4f648c8"
      },
      "execution_count": 24,
      "outputs": [
        {
          "name": "stdout",
          "output_type": "stream",
          "text": [
            "5\n",
            "3 2 1 1 9\n"
          ]
        },
        {
          "output_type": "execute_result",
          "data": {
            "text/plain": [
              "8"
            ]
          },
          "metadata": {},
          "execution_count": 24
        }
      ]
    },
    {
      "cell_type": "code",
      "source": [
        "### 볼링공 고르기\n",
        "n,m = map(int, input().split())\n",
        "k = list(map(int, input().split()))\n",
        "cnt=0\n",
        "for i in range(0,len(k)-1):\n",
        "  for j in range(i+1,len(k)):\n",
        "    if k[i]!=k[j]:\n",
        "      cnt+=1\n",
        "cnt      "
      ],
      "metadata": {
        "colab": {
          "base_uri": "https://localhost:8080/"
        },
        "id": "17kFawi5HNAf",
        "outputId": "f3946cad-3985-4226-c339-1bcecb4ce0ab"
      },
      "execution_count": 29,
      "outputs": [
        {
          "name": "stdout",
          "output_type": "stream",
          "text": [
            "8 5\n",
            "1 5 4 3 2 3 5 2\n"
          ]
        },
        {
          "output_type": "execute_result",
          "data": {
            "text/plain": [
              "25"
            ]
          },
          "metadata": {},
          "execution_count": 29
        }
      ]
    },
    {
      "cell_type": "code",
      "source": [],
      "metadata": {
        "id": "umoRyOGCIT8W"
      },
      "execution_count": null,
      "outputs": []
    }
  ]
}