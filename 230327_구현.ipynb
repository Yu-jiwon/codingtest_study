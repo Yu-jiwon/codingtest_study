{
  "nbformat": 4,
  "nbformat_minor": 0,
  "metadata": {
    "colab": {
      "provenance": [],
      "authorship_tag": "ABX9TyNMxC0y4YgQx2iZtsiwDPQs",
      "include_colab_link": true
    },
    "kernelspec": {
      "name": "python3",
      "display_name": "Python 3"
    },
    "language_info": {
      "name": "python"
    }
  },
  "cells": [
    {
      "cell_type": "markdown",
      "metadata": {
        "id": "view-in-github",
        "colab_type": "text"
      },
      "source": [
        "<a href=\"https://colab.research.google.com/github/Yu-jiwon/codingtest_study/blob/main/230327_%EA%B5%AC%ED%98%84.ipynb\" target=\"_parent\"><img src=\"https://colab.research.google.com/assets/colab-badge.svg\" alt=\"Open In Colab\"/></a>"
      ]
    },
    {
      "cell_type": "code",
      "execution_count": 6,
      "metadata": {
        "colab": {
          "base_uri": "https://localhost:8080/"
        },
        "id": "xeb7fHNo-m5n",
        "outputId": "c0a9f567-5418-49ec-81cd-7d791d45fb78"
      },
      "outputs": [
        {
          "output_type": "stream",
          "name": "stdout",
          "text": [
            "<ab cd>ef gh<ij kl>\n",
            "<ab cd>fe hg<ij kl>\n"
          ]
        }
      ],
      "source": [
        "#17413\t단어 뒤집기 2\n",
        "s = list(input())\n",
        "i=0\n",
        "start=0\n",
        "\n",
        "while i<len(s):\n",
        "  if s[i]=='<':\n",
        "    i+=1\n",
        "    while s[i]!='>':\n",
        "      i+=1\n",
        "    i+=1\n",
        "  elif s[i].isalnum():\n",
        "    start=i\n",
        "    while i<len(s) and s[i].isalnum():\n",
        "      i+=1\n",
        "    temp=s[start:i]\n",
        "    temp.reverse()\n",
        "    s[start:i]=temp\n",
        "  else:\n",
        "    i+=1\n",
        "print(\"\".join(s))"
      ]
    },
    {
      "cell_type": "code",
      "source": [
        "#20291\t파일 정리\n",
        "n = int(input())\n",
        "file=[]\n",
        "for i in range(n):\n",
        "  a,b = input().split(\".\")\n",
        "  file.append(b)\n",
        "\n",
        "result1 = list(set(file))\n",
        "cnt=0\n",
        "result2=[]\n",
        "for i in result1:\n",
        "  for j in file:\n",
        "    if i==j:\n",
        "      cnt+=1\n",
        "  result2.append((i,cnt))\n",
        "  cnt=0\n",
        "\n",
        "for i in range(len(result2)):\n",
        "  print(str(result2[i][0])+\" \"+str(result2[i][1]))"
      ],
      "metadata": {
        "colab": {
          "base_uri": "https://localhost:8080/"
        },
        "id": "trCDnJZz-4fA",
        "outputId": "f7bcdfaa-93fe-4f3f-de5c-25750f24b2e2"
      },
      "execution_count": 12,
      "outputs": [
        {
          "output_type": "stream",
          "name": "stdout",
          "text": [
            "8\n",
            "sbrus.txt\n",
            "spc.spc\n",
            "acm.icpc\n",
            "korea.icpc\n",
            "sample.txt\n",
            "hello.world\n",
            "sogang.spc\n",
            "example.txt\n",
            "icpc 2\n",
            "spc 2\n",
            "txt 3\n",
            "world 1\n"
          ]
        }
      ]
    },
    {
      "cell_type": "code",
      "source": [
        "#17276\t배열 돌리기\n",
        "t = int(input())\n",
        "\n",
        "def turn(n,d,arr:list):\n",
        "  n-=1\n",
        "  count=abs(d)//45\n",
        "  minus=False\n",
        "  if d<0:\n",
        "    minus=True\n",
        "  for _ in range(count):\n",
        "    if not minus:\n",
        "      prev_list=list()\n",
        "\n",
        "      for i in range(n+1): #주대각선\n",
        "        prev_list.append(arr[i][i])\n",
        "\n",
        "      for i in range(n+1):\n",
        "        prev_temp = arr[i][(n+1)//2]\n",
        "        arr[i][(n+1)//2] = prev_list[i]\n",
        "        prev_list[i]=prev_temp\n",
        "      \n",
        "      for i in range(n+1):\n",
        "        prev_temp = arr[i][n-i]\n",
        "        arr[i][n-i]=prev_list[i]\n",
        "        prev_list[i]=prev_temp\n",
        "\n",
        "      for i in range(n+1):\n",
        "        prev_temp = arr[(n+1)//2][n-i]\n",
        "        arr[(n+1)//2][n-i] = prev_list[i]\n",
        "        prev_list[i]=prev_temp\n",
        "\n",
        "      for i in range(n+1):\n",
        "        arr[n-i][n-i] = prev_list[i]\n",
        "    else:\n",
        "      prev_list = list()\n",
        "\n",
        "      for i in range(n + 1):  # 주대각선\n",
        "        prev_list.append(arr[i][i])\n",
        "\n",
        "      for i in range(n + 1):  # 주대각선 -> 가운데행\n",
        "        prev_temp = arr[(n + 1) // 2][i]\n",
        "        arr[(n + 1) // 2][i] = prev_list[i]\n",
        "        prev_list[i] = prev_temp\n",
        "\n",
        "      for i in range(n + 1):  # 가운데행 -> 부대각선\n",
        "        prev_temp =arr[n - i][i]\n",
        "        arr[n - i][i] = prev_list[i]\n",
        "        prev_list[i] = prev_temp\n",
        "\n",
        "      for i in range(n + 1):  # 부대각선 -> 가운데열\n",
        "        prev_temp = arr[n - i][(n + 1) // 2]\n",
        "        arr[n - i][(n + 1) // 2] = prev_list[i]\n",
        "        prev_list[i] = prev_temp\n",
        "\n",
        "      for i in range(n + 1):  # 가운대열 -> 주대각선\n",
        "        arr[n - i][n - i] = prev_list[i]\n",
        "\n",
        "for _ in range(t):\n",
        "  n, d = map(int, input().split())\n",
        "  arr=[list(map(int, input().split(' '))) for _ in range(n)]\n",
        "  turn(n,d,arr)\n",
        "  for i in range(n):\n",
        "    for j in range(n):\n",
        "      print(arr[i][j],end=\" \")\n",
        "    print()"
      ],
      "metadata": {
        "id": "gl48xKS2-4Vh"
      },
      "execution_count": null,
      "outputs": []
    },
    {
      "cell_type": "code",
      "source": [
        "#15787\t기차가 어둠을 헤치고 은하수를\n",
        "n,m = map(int, input().split())\n",
        "train=[[0 for _ in range(20)] for _ in range(n)]\n",
        "state=[]\n",
        "for i in range(n):\n",
        "  a = list(map(int, input().split()))\n",
        "  if a[0]==1:\n",
        "    train[a[1]-1][a[2]-1]=1\n",
        "\n",
        "  elif a[0]==2:\n",
        "    train[a[1]-1][a[2]-1]=0\n",
        "  \n",
        "  elif a[0]==3:\n",
        "    for j in range(19,0,-1):\n",
        "      train[a[1]-1][j] = train[a[1]-1][j+1]\n",
        "    train[a[1]-1][0] = 0\n",
        "  elif a[0]==4:\n",
        "    for j in range(19):\n",
        "      train[a[1]-1][j] = train[a[i]-1][j+1]\n",
        "    train[a[1]-1][19]=0\n",
        "  cnt = 0\n",
        "  for i in range(n):\n",
        "    if train[i] not in state:\n",
        "      state.append(train[i])\n",
        "      cnt+=1\n",
        "print(cnt)"
      ],
      "metadata": {
        "id": "p2wfoKjy-4Kc"
      },
      "execution_count": null,
      "outputs": []
    },
    {
      "cell_type": "code",
      "source": [
        "#2615\t오목"
      ],
      "metadata": {
        "id": "lm50XEK_-35y"
      },
      "execution_count": null,
      "outputs": []
    },
    {
      "cell_type": "code",
      "source": [
        "#16926\t배열 돌리기 1"
      ],
      "metadata": {
        "id": "FwKumBnp-3wt"
      },
      "execution_count": null,
      "outputs": []
    }
  ]
}