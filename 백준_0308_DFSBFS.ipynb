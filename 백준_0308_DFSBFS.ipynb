{
  "nbformat": 4,
  "nbformat_minor": 0,
  "metadata": {
    "colab": {
      "provenance": [],
      "authorship_tag": "ABX9TyNm/4EowoV4RaOQNNQBPpnI",
      "include_colab_link": true
    },
    "kernelspec": {
      "name": "python3",
      "display_name": "Python 3"
    },
    "language_info": {
      "name": "python"
    }
  },
  "cells": [
    {
      "cell_type": "markdown",
      "metadata": {
        "id": "view-in-github",
        "colab_type": "text"
      },
      "source": [
        "<a href=\"https://colab.research.google.com/github/Yu-jiwon/codingtest_study/blob/main/%EB%B0%B1%EC%A4%80_0308_DFSBFS.ipynb\" target=\"_parent\"><img src=\"https://colab.research.google.com/assets/colab-badge.svg\" alt=\"Open In Colab\"/></a>"
      ]
    },
    {
      "cell_type": "code",
      "execution_count": null,
      "metadata": {
        "id": "6UAGGe29Zlli"
      },
      "outputs": [],
      "source": [
        "# 2606_바이러스\n",
        "from collections import deque\n",
        "n=int(input()) # 컴퓨터 개수\n",
        "v=int(input()) # 연결선 개수\n",
        "graph = [[] for i in range(n+1)] # 그래프 초기화\n",
        "visited=[0]*(n+1) # 방문한 컴퓨터인지 표시\n",
        "for i in range(v): # 그래프 생성\n",
        "    a,b=map(int,input().split())\n",
        "    graph[a]+=[b] # a에 b 연결\n",
        "    graph[b]+=[a] # b에 a 연결 -> 양방향\n",
        "visited[1]=1 # 1번 컴퓨터부터 시작이니 방문 표시\n",
        "Q=deque([1])\n",
        "while Q:\n",
        "    c=Q.popleft()\n",
        "    for nx in graph[c]:\n",
        "        if visited[nx]==0:\n",
        "            Q.append(nx)\n",
        "            visited[nx]=1\n",
        "print(sum(visited)-1)"
      ]
    },
    {
      "cell_type": "code",
      "source": [
        "# 1260_트리의 부모찾기\n",
        "import sys\n",
        "input = sys.stdin.readline\n",
        "sys.setrecursionlimit(10**6)\n",
        "\n",
        "n = int(input())\n",
        "tree = [[] for _ in range(n+1)]\n",
        "par = [-1]*(n+1)\n",
        "for _ in range(n-1):\n",
        "    a,b = map(int,input().split())\n",
        "    tree[a].append(b)\n",
        "    tree[b].append(a)\n",
        "\n",
        "def dfs(n):\n",
        "    for i in tree[n]:\n",
        "        if par[i] == -1:\n",
        "            par[i] = n\n",
        "            dfs(i)\n",
        "            \n",
        "dfs(1)\n",
        "for i in range(2,n+1):\n",
        "    print(par[i])"
      ],
      "metadata": {
        "id": "G3xxFjDDZ48e"
      },
      "execution_count": null,
      "outputs": []
    },
    {
      "cell_type": "code",
      "source": [
        "# 2178_효율적인 해킹(!)\n",
        "from collections import deque\n",
        "\n",
        "n,m = map(int, input().split())\n",
        "gragh=[[]for _ in range (n+1)]\n",
        "for i in range(m):\n",
        "  a,b=map(int,input().split())\n",
        "  gragh[b].append(a) #A가 B를 신뢰한다, 즉, gragh[b]에서 a로 갈수 있음..?\n",
        "\n",
        "def bfs(x):\n",
        "  cnt=1\n",
        "  distance=[False]*(n+1) #방문하지 않은 리스트를 만듦\n",
        "  distance[x]=True #시작 노드는 True\n",
        "\n",
        "  q=deque([x])\n",
        "  while q: #큐가 존재하는 동안\n",
        "    now=q.popleft() #현재 위치를 나타내는 now값을 pop\n",
        "    for next in gragh[now]: #now에서 갈수 있는 노드\n",
        "      if distance[next]==False: #방문하지 않은 곳이라면\n",
        "        distance[next]=True #방문했음을 의미하는 True를 삽입\n",
        "        q.append(next) #방문한 곳의 값을 큐에 삽입\n",
        "        cnt+=1 # 해킹할 수 있는 컴퓨터 수를 하나씩 더함\n",
        "  return cnt\n",
        "\n",
        "result=[] #각 노드들이 해킹할 수 있는 컴퓨터 수를 리스트로 저장\n",
        "for i in range(1,n+1):\n",
        "  result.append(bfs(i))\n",
        "\n",
        "for i in range(len(result)): #result 리스트들 중에서 젤 큰 수와 for문을 돌렸을 때 같은 노드의 인덱스를 출력\n",
        "  if max(result) == result[i]:\n",
        "    print(i+1, end=' ')"
      ],
      "metadata": {
        "colab": {
          "base_uri": "https://localhost:8080/"
        },
        "id": "gXPA2FSJZ9Ty",
        "outputId": "bb6bbe71-ac2b-4528-d3e9-7818a2339259"
      },
      "execution_count": null,
      "outputs": [
        {
          "output_type": "stream",
          "name": "stdout",
          "text": [
            "5 4\n",
            "3 1\n",
            "3 2\n",
            "4 3\n",
            "5 3\n",
            "1 2 "
          ]
        }
      ]
    },
    {
      "cell_type": "code",
      "source": [
        "# 1260_DFS와BFS\n",
        "from collections import deque\n",
        "import sys\n",
        "read = sys.stdin.readline\n",
        "\n",
        "def bfs(v):\n",
        "  q = deque()\n",
        "  q.append(v)       \n",
        "  visit_list[v] = 1   \n",
        "  while q:\n",
        "    v = q.popleft()\n",
        "    print(v, end = \" \")\n",
        "    for i in range(1, n + 1):\n",
        "      if visit_list[i] == 0 and graph[v][i] == 1:\n",
        "        q.append(i)\n",
        "        visit_list[i] = 1\n",
        "\n",
        "def dfs(v):\n",
        "  visit_list2[v] = 1        \n",
        "  print(v, end = \" \")\n",
        "  for i in range(1, n + 1):\n",
        "    if visit_list2[i] == 0 and graph[v][i] == 1:\n",
        "      dfs(i)\n",
        "\n",
        "n, m, v = map(int, read().split())\n",
        "\n",
        "graph = [[0] * (n + 1) for _ in range(n + 1)] \n",
        "visit_list = [0] * (n + 1)\n",
        "visit_list2 = [0] * (n + 1)\n",
        "\n",
        "for _ in range(m):\n",
        "  a, b = map(int, read().split())\n",
        "  graph[a][b] = graph[b][a] = 1\n",
        "\n",
        "dfs(v)\n",
        "print()\n",
        "bfs(v)"
      ],
      "metadata": {
        "id": "XhjDS_bBaBbp"
      },
      "execution_count": null,
      "outputs": []
    },
    {
      "cell_type": "code",
      "source": [
        "# 16918 봄버맨\n",
        "import sys\n",
        "input = sys.stdin.readline\n",
        "\n",
        "r, c, n = map(int, input().split())\n",
        "board = [list(input().strip()) for i in range(r)]\n",
        "\n",
        "if n<=1 :\n",
        "    for li in board : print(''.join(li))\n",
        "elif n%2==0 :\n",
        "    for i in range(r): print('O'*c)\n",
        "else :\n",
        "    # 첫번째 폭탄이 터진 상태\n",
        "    bombs1 = [['O']*c for i in range(r)]\n",
        "    for y in range(r):\n",
        "        for x in range(c):\n",
        "            if board[y][x]=='O': bombs1[y][x] = '.'\n",
        "            else :\n",
        "                for i, j in [(0, 1), (0, -1), (1, 0), (-1, 0)]:\n",
        "                    if y+i>=0 and y+i<r and x+j>=0 and x+j<c and board[y+i][x+j]=='O':\n",
        "                        bombs1[y][x] = '.'\n",
        "                        break\n",
        "\n",
        "    # 두번째 폭탄이 터진 상태\n",
        "    bombs2 = [['O']*c for i in range(r)]\n",
        "    for y in range(r):\n",
        "        for x in range(c):\n",
        "            if bombs1[y][x]=='O' : bombs2[y][x] = '.'\n",
        "            else :\n",
        "                for i, j in [(0, 1), (0, -1), (1, 0), (-1, 0)]:\n",
        "                    if y+i>=0 and y+i<r and x+j>=0 and x+j<c and bombs1[y+i][x+j]=='O':\n",
        "                        bombs2[y][x] = '.'\n",
        "                        break\n",
        "\n",
        "    if n%4==3:\n",
        "        for li in bombs1 : print(''.join(li))\n",
        "    if n%4==1:\n",
        "        for li in bombs2 : print(''.join(li))"
      ],
      "metadata": {
        "id": "Y5Vf0Kz-aHNR"
      },
      "execution_count": null,
      "outputs": []
    },
    {
      "cell_type": "code",
      "source": [],
      "metadata": {
        "id": "jtC3ZtZXaNZg"
      },
      "execution_count": null,
      "outputs": []
    }
  ]
}