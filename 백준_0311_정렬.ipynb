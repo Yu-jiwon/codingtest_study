{
  "nbformat": 4,
  "nbformat_minor": 0,
  "metadata": {
    "colab": {
      "provenance": [],
      "authorship_tag": "ABX9TyNUUPad3gKKiL3vlgV89vfP",
      "include_colab_link": true
    },
    "kernelspec": {
      "name": "python3",
      "display_name": "Python 3"
    },
    "language_info": {
      "name": "python"
    }
  },
  "cells": [
    {
      "cell_type": "markdown",
      "metadata": {
        "id": "view-in-github",
        "colab_type": "text"
      },
      "source": [
        "<a href=\"https://colab.research.google.com/github/Yu-jiwon/codingtest_study/blob/main/%EB%B0%B1%EC%A4%80_0311_%EC%A0%95%EB%A0%AC.ipynb\" target=\"_parent\"><img src=\"https://colab.research.google.com/assets/colab-badge.svg\" alt=\"Open In Colab\"/></a>"
      ]
    },
    {
      "cell_type": "code",
      "execution_count": 25,
      "metadata": {
        "colab": {
          "base_uri": "https://localhost:8080/"
        },
        "id": "ccPV9PkuL6iQ",
        "outputId": "768c9792-6e9e-438b-e1dd-7038897a8405"
      },
      "outputs": [
        {
          "output_type": "stream",
          "name": "stdout",
          "text": [
            "4 2\n",
            "1 2 100 101\n",
            "2\n"
          ]
        }
      ],
      "source": [
        "# 1449_수리공항승\n",
        "n,l = map(int, input().split())\n",
        "tape=list(map(int,input().split()))\n",
        "tape.sort() #뒤죽박죽 들어올 수도 있음\n",
        "\n",
        "start=tape[0]-0.5 # 좌우 0.5만큼 간격을 줘야하기 때문\n",
        "end=start+l #시작위치에서 테이프 길이만큼 간 것이 끝 위치\n",
        "cnt=1 #시작부터 1개를 사용함\n",
        "\n",
        "for i in range(1,n):\n",
        "  if start<tape[i]<end: #물이 새는 위치가 시작 위치랑 끝 위치 사이라면\n",
        "    continue #테이프 그대로 사용\n",
        "  else: #물새는 위치가 테이프 범위를 넘김\n",
        "    cnt+=1 #테이프 1개 추가\n",
        "    start=tape[i]-0.5 #테이프 시작과 마지막 위치를 다시 정의\n",
        "    end=start+l\n",
        "\n",
        "print(cnt)"
      ]
    },
    {
      "cell_type": "code",
      "source": [
        "# 1431_시리얼 번호_런타임에러\n",
        "n=int(input())\n",
        "num = []\n",
        "for i in range(n):\n",
        "  num.append(input())\n",
        "\n",
        "for i in range(n-1):\n",
        "  for j in range(i+1,n):\n",
        "    if len(num[i])>len(num[j]): #자리수 길이 확인\n",
        "      num[i]=num[j]\n",
        "      num[j]=num[i]\n",
        "    elif len(num[i])==len(num[j]): #자리수 길이가 같다면\n",
        "      suma=0\n",
        "      sumb=0\n",
        "      for x,y in zip(num[i],num[j]):#각 자리수 합을 더함\n",
        "        if x.isdigit():\n",
        "          suma+=int(x)\n",
        "        if y.isdigit():\n",
        "          sumb+=int(x)\n",
        "      if suma>sumb: #각 자리수 합을 비교\n",
        "        num[i]=num[j]\n",
        "        num[j]=num[i]\n",
        "      elif suma==sumb: #숫자의 합까지 같다면\n",
        "        for x,y in zip(num[i],num[j]): #사전순으로 비교\n",
        "          if x>y:\n",
        "            num[i]=num[j]\n",
        "            num[j]=num[i]\n",
        "            break\n",
        "          elif x<y:\n",
        "            break\n",
        "for i in num:\n",
        "  print(i)"
      ],
      "metadata": {
        "id": "_IlP8o9SMP2U"
      },
      "execution_count": 19,
      "outputs": []
    },
    {
      "cell_type": "code",
      "source": [
        "#시리얼 넘버_백준에서 통과\n",
        "n = int(input())\n",
        "num=[]\n",
        "for i in range(n):\n",
        "  num.append(input())\n",
        "\n",
        "def sum_num(x):\n",
        "  sum=0\n",
        "  for i in x:\n",
        "    if i.isdigit():\n",
        "      sum+=int(i)\n",
        "  return sum\n",
        "\n",
        "num.sort(key=lambda x:(len(x),sum_num(x),x))\n",
        "for i in num:\n",
        "  print(i)"
      ],
      "metadata": {
        "id": "7l5Hm0e-cI_u"
      },
      "execution_count": null,
      "outputs": []
    },
    {
      "cell_type": "code",
      "source": [
        "# 3273_두수의 합_아닌가,,(시간초과)\n",
        "n = int(input())\n",
        "a = list(map(int, input().split()))\n",
        "x = int(input())\n",
        "a.sort()\n",
        "\n",
        "cnt=0\n",
        "for i in range(n-1):\n",
        "  for j in range(i+1,n):\n",
        "    if a[i]+a[j]==x:\n",
        "      cnt+=1\n",
        "\n",
        "print(cnt)"
      ],
      "metadata": {
        "colab": {
          "base_uri": "https://localhost:8080/"
        },
        "id": "zX8dHQCsMVdU",
        "outputId": "40fbb40c-96bc-4cdc-f4ba-511fb3e65e93"
      },
      "execution_count": 26,
      "outputs": [
        {
          "output_type": "stream",
          "name": "stdout",
          "text": [
            "9\n",
            "5 12 7 10 9 1 2 3 11\n",
            "13\n",
            "3\n"
          ]
        }
      ]
    },
    {
      "cell_type": "code",
      "source": [
        "# 두수의 합\n",
        "n = int(input())\n",
        "a = list(map(int, input().split()))\n",
        "x = int(input())\n",
        "a.sort()\n",
        "cnt=0\n",
        "\n",
        "left=0 #양 끝에서부터 시작\n",
        "right=n-1\n",
        "\n",
        "while left<right: #left와 right는 만나면 안됨\n",
        "  temp = a[left]+a[right]\n",
        "  if temp==x:\n",
        "    cnt+=1\n",
        "  if temp<x:#temp가 작으면 더 큰 값을 더해야하므로 left를 +1\n",
        "    left+=1\n",
        "    continue\n",
        "  right-=1 \n",
        "print(cnt)"
      ],
      "metadata": {
        "colab": {
          "base_uri": "https://localhost:8080/"
        },
        "id": "cUjBj84ff_H-",
        "outputId": "2ee4ef8e-af91-407e-92a8-0e4f3585ca9f"
      },
      "execution_count": 28,
      "outputs": [
        {
          "output_type": "stream",
          "name": "stdout",
          "text": [
            "9\n",
            "5 12 7 10 9 1 2 3 11\n",
            "13\n",
            "3\n"
          ]
        }
      ]
    },
    {
      "cell_type": "code",
      "source": [
        "# 18870 좌표 압축(시간초과)\n",
        "n = int(input())\n",
        "a = list(map(int, input().split()))\n",
        "set_a = list(set(a))\n",
        "set_a.sort()\n",
        "\n",
        "#입력값과 정렬된 값을 비교해서 같으면 해당a의 값을 set_a의 인덱스 값으로 저장\n",
        "for i in range(len(a)):\n",
        "  for j in range(len(set_a)):\n",
        "    if a[i]==set_a[j]:\n",
        "      a[i]=j\n",
        "    else:\n",
        "      continue\n",
        "\n",
        "for i in a:\n",
        "  print(i,end=' ')"
      ],
      "metadata": {
        "colab": {
          "base_uri": "https://localhost:8080/"
        },
        "id": "HpsW1I-YMetu",
        "outputId": "c4e84ae1-d8e5-4dcb-8717-b5ef2ff88337"
      },
      "execution_count": 42,
      "outputs": [
        {
          "output_type": "stream",
          "name": "stdout",
          "text": [
            "5\n",
            "2 4 -10 4 -9\n",
            "2 3 0 3 1 "
          ]
        }
      ]
    },
    {
      "cell_type": "code",
      "source": [
        "n = int(input())\n",
        "\n",
        "numbers = list(map(int, input().split()))\n",
        "\n",
        "numset = set(numbers)\n",
        "a = list(numset)\n",
        "a.sort()\n",
        "\n",
        "#딕셔너리를 사용\n",
        "numdict = {}\n",
        "for i in range(len(a)): #딕셔너리에 a[i]:i 형태로 저장\n",
        "    numdict[a[i]] = i\n",
        "\n",
        "for i in numbers: #딕셔너리에서 numbers의 값에 해당되는 값을 출력\n",
        "    print(numdict[i], end=' ')"
      ],
      "metadata": {
        "colab": {
          "base_uri": "https://localhost:8080/"
        },
        "id": "vCAxA41an8oY",
        "outputId": "69d2fa68-9d7a-49cd-b67b-4a5f77b27229"
      },
      "execution_count": 43,
      "outputs": [
        {
          "output_type": "stream",
          "name": "stdout",
          "text": [
            "5\n",
            "2 4 -10 4 -9\n",
            "2 3 0 3 1 "
          ]
        }
      ]
    },
    {
      "cell_type": "code",
      "source": [
        "# 1946 신입사원\n",
        "t = int(input())\n",
        "for i in range(t):\n",
        "  n=int(input())\n",
        "  score=[]\n",
        "  for j in range(n):\n",
        "    x,y=map(int,input().split())\n",
        "    score.append([x,y])\n",
        "  score.sort() #서류 성적을 기준으로 면접성적이 앞에 사람들보다 높으면 합격\n",
        "  temp = score[0][1]\n",
        "  cnt=1\n",
        "\n",
        "  for j in range(len(score)):\n",
        "    if temp>score[j][1]:\n",
        "      cnt+=1\n",
        "      temp=score[j][1]\n",
        "\n",
        "  print(cnt)"
      ],
      "metadata": {
        "colab": {
          "base_uri": "https://localhost:8080/"
        },
        "id": "ETE5R6I_Mh9D",
        "outputId": "f17896ee-e674-4786-e549-c297a2c2d8d5"
      },
      "execution_count": 52,
      "outputs": [
        {
          "output_type": "stream",
          "name": "stdout",
          "text": [
            "2\n",
            "5\n",
            "3 2\n",
            "1 4\n",
            "4 1\n",
            "2 3\n",
            "5 5\n",
            "4\n",
            "7\n",
            "3 6\n",
            "7 3\n",
            "4 2\n",
            "1 4\n",
            "5 7\n",
            "2 5\n",
            "6 1\n",
            "3\n"
          ]
        }
      ]
    },
    {
      "cell_type": "code",
      "source": [],
      "metadata": {
        "id": "YrcHZYkiqbFp"
      },
      "execution_count": null,
      "outputs": []
    }
  ]
}