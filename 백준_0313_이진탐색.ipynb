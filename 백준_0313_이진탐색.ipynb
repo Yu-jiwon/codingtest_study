{
  "nbformat": 4,
  "nbformat_minor": 0,
  "metadata": {
    "colab": {
      "provenance": [],
      "authorship_tag": "ABX9TyNG8kECTGw8ComJmc+Kkvok",
      "include_colab_link": true
    },
    "kernelspec": {
      "name": "python3",
      "display_name": "Python 3"
    },
    "language_info": {
      "name": "python"
    }
  },
  "cells": [
    {
      "cell_type": "markdown",
      "metadata": {
        "id": "view-in-github",
        "colab_type": "text"
      },
      "source": [
        "<a href=\"https://colab.research.google.com/github/Yu-jiwon/codingtest_study/blob/main/%EB%B0%B1%EC%A4%80_0313_%EC%9D%B4%EC%A7%84%ED%83%90%EC%83%89.ipynb\" target=\"_parent\"><img src=\"https://colab.research.google.com/assets/colab-badge.svg\" alt=\"Open In Colab\"/></a>"
      ]
    },
    {
      "cell_type": "code",
      "execution_count": 3,
      "metadata": {
        "colab": {
          "base_uri": "https://localhost:8080/"
        },
        "id": "KtxfBKiK37G9",
        "outputId": "039fa728-ff2a-4fc5-a4a6-83967dfd5476"
      },
      "outputs": [
        {
          "output_type": "stream",
          "name": "stdout",
          "text": [
            "3 3\n",
            "w 10000\n",
            "n 100000\n",
            "s 1000000\n",
            "0\n",
            "10001\n",
            "500000\n",
            "['w', 'n', 's']\n"
          ]
        }
      ],
      "source": [
        "# 19637_if문 좀 대신 써줘(백준에서 돌릴때는 sys 사용)\n",
        "\n",
        "n,m = map(int, input().split())\n",
        "name = []\n",
        "power = []\n",
        "for _ in range(n):\n",
        "  a,b = input().split()\n",
        "  if power and power[-1]==power: # 같은 숫자,조건이 들어가지 않도록 함\n",
        "    continue\n",
        "  name.append(a) \n",
        "  power.append(int(b)) # 숫자로 저장\n",
        "\n",
        "p=[] # 전투력\n",
        "for _ in range(m):\n",
        "  p.append(int(input()))\n",
        "\n",
        "# 이진탐색\n",
        "def binary(p):\n",
        "  result=[]\n",
        "  for i in p: #입력받은 전투력 리스트 반복\n",
        "    start=0\n",
        "    end = len(power)-1\n",
        "\n",
        "    while start<=end: #결국에는 start와 end는 같아짐 -> else문을 향하게됨 -> end는 +1해줘야 칭호를 찾을 수 있음\n",
        "      mid = (start+end)//2\n",
        "      if i>power[mid]: # 전투력이 mid보다 크면 그 뒤에 있는 칭호를 찾아야됨\n",
        "        start = mid+1\n",
        "      else: # 전투력이 작거나 같으면 그 앞에 있는 칭호를 찾음\n",
        "        end = mid-1\n",
        "    result.append(name[end-1]) #범위가 정해져있으니까... \n",
        "  return(result)\n",
        "\n",
        "print(binary(p))"
      ]
    },
    {
      "cell_type": "code",
      "source": [
        "# 2805_나무자르기\n",
        "n, m = map(int, input().split())\n",
        "tree = list(map(int, input().split()))\n",
        "tree.sort()\n",
        "\n",
        "start = 1 #이진탐색 범위는 나무 리스트의 최대 최소값 사이의 그 어떤 수\n",
        "end = tree[n-1]\n",
        "\n",
        "while start<=end: \n",
        "  mid = (start+end)//2\n",
        "  sum=0\n",
        "  for i in tree: #절단해서 가져갈 수 있는 길이를 합함\n",
        "    if i>=mid:\n",
        "      sum+=(i-mid)\n",
        "    else:\n",
        "      continue\n",
        "  if sum>=m: #최대값이니까\n",
        "    start=mid+1\n",
        "  else:\n",
        "    end = mid-1\n",
        "print(end)"
      ],
      "metadata": {
        "colab": {
          "base_uri": "https://localhost:8080/"
        },
        "id": "oXbNwlJC4vIS",
        "outputId": "c3745b64-368c-470f-e061-7e4c2774393a"
      },
      "execution_count": 7,
      "outputs": [
        {
          "output_type": "stream",
          "name": "stdout",
          "text": [
            "5 20\n",
            "4 42 40 26 46\n",
            "36\n"
          ]
        }
      ]
    },
    {
      "cell_type": "code",
      "source": [
        "# 22871_징검다리건너기\n"
      ],
      "metadata": {
        "id": "-wcbm2nT4xDT"
      },
      "execution_count": 3,
      "outputs": []
    },
    {
      "cell_type": "code",
      "source": [
        "# 118113_그르다 김가놈\n"
      ],
      "metadata": {
        "id": "3Wl8nBhY4y5S"
      },
      "execution_count": 4,
      "outputs": []
    },
    {
      "cell_type": "code",
      "source": [
        "# 20495_수열과 헌팅(?)\n"
      ],
      "metadata": {
        "id": "dhsRZc4840nv"
      },
      "execution_count": null,
      "outputs": []
    }
  ]
}