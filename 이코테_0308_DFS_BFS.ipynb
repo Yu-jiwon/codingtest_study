{
  "nbformat": 4,
  "nbformat_minor": 0,
  "metadata": {
    "colab": {
      "provenance": [],
      "authorship_tag": "ABX9TyMzHPkU6Vqi9ckafiHFOkkU",
      "include_colab_link": true
    },
    "kernelspec": {
      "name": "python3",
      "display_name": "Python 3"
    },
    "language_info": {
      "name": "python"
    }
  },
  "cells": [
    {
      "cell_type": "markdown",
      "metadata": {
        "id": "view-in-github",
        "colab_type": "text"
      },
      "source": [
        "<a href=\"https://colab.research.google.com/github/Yu-jiwon/codingtest_study/blob/main/%EC%9D%B4%EC%BD%94%ED%85%8C_0308_DFS_BFS.ipynb\" target=\"_parent\"><img src=\"https://colab.research.google.com/assets/colab-badge.svg\" alt=\"Open In Colab\"/></a>"
      ]
    },
    {
      "cell_type": "code",
      "execution_count": null,
      "metadata": {
        "colab": {
          "base_uri": "https://localhost:8080/"
        },
        "id": "u7xDDC987ydS",
        "outputId": "f9e6e355-2d94-430a-d207-544e5c14a991"
      },
      "outputs": [
        {
          "output_type": "stream",
          "name": "stdout",
          "text": [
            "4 4 1 1\n",
            "1 2\n",
            "1 3\n",
            "2 3\n",
            "2 4\n",
            "2\n",
            "3\n"
          ]
        }
      ],
      "source": [
        "#15_특정거리 도시찾기\n",
        "from collections import deque #BFS사용\n",
        "\n",
        "n,m,k,x = map(int,input().split())\n",
        "gragh=[[]for _ in range(n+1)] # 빈리스트 만들기\n",
        "\n",
        "for i in range(m):\n",
        "  a,b=map(int,input().split())\n",
        "  gragh[a].append(b)\n",
        "\n",
        "distance=[-1]*(n+1) #방문하지 않았다는 의미의 -1로 gragh만큼 채우기\n",
        "distance[x]=0 # 시작노드는 0\n",
        "\n",
        "q = deque([x])\n",
        "while q:\n",
        "  now=q.popleft() #가장 먼저 들어간 값이 pop되고 now로 선언\n",
        "  for next in gragh[now]: # 그래프 리스트의 now에 해당하는 값들을 for문으로 반복\n",
        "    if distance[next]==-1: # 아직 방문하지 않은 노드라면 \n",
        "      distance[next]= distance[now]+1 #현재 now에 +1을 하여 최단 거리 갱신\n",
        "      q.append(next) #큐에 다음 노드의 그래프 리스트 값을 저장\n",
        "\n",
        "check=False\n",
        "for i in range(1,n+1):\n",
        "  if distance[i]==k:\n",
        "    print(i)\n",
        "    check=True #True로 바꿔줌으로써 k에 해당하는 최단 거리 노드가 존재함을 의미\n",
        "\n",
        "if check==False:\n",
        "  print(-1)"
      ]
    },
    {
      "cell_type": "code",
      "source": [
        "#16_연구소\n",
        "n, m = map(int, input().split())\n",
        "gragh=[]\n",
        "for i in range(n):\n",
        "  gragh.append(list(map(int,input().split())))\n",
        "temp=[[0]*m for _ in range(n)] # 비어있는 리스트 생성->벽이 설치 된 뒤의 결과가 저장\n",
        "\n",
        "dx=[-1,0,1,0] # 상하좌우 이동 방향이 나타남\n",
        "dy=[0,1,0,-1]\n",
        "\n",
        "result=0\n",
        "\n",
        "#바이러스 감염 함수\n",
        "def virus(x,y):\n",
        "  for i in range(4): #상하좌우로 탐색\n",
        "    nx = x+dx[i]\n",
        "    ny = y+dy[i]\n",
        "\n",
        "    if nx>=0 and nx<n and ny>=0 and ny<m: # 맵 범위 안에서\n",
        "      if temp[nx][ny]==0: #해당 위치의 다음 노드가 0(빈공간)이면\n",
        "        temp[nx][ny]=2 #2로 저장하여 감염\n",
        "        virus(nx,ny) #그 자리에서 감염을 실행하기 위해 재귀호출\n",
        "\n",
        "#0의 개수를 계산하는 함수\n",
        "def get_score():\n",
        "  score=0\n",
        "  for i in range(n): #맵의 전체를 탐색\n",
        "    for j in range(m):\n",
        "      if temp[i][j]==0: #해당 위치가 빈공간이면 score +1\n",
        "        score+=1\n",
        "  return score\n",
        "\n",
        "#메인함수\n",
        "def dfs(count):\n",
        "  global result\n",
        "  if count==3: #벽이 3개가 세워졌다면\n",
        "    for i in range(n): #전체 맵 탐색\n",
        "      for j in range(m):\n",
        "        temp[i][j]= gragh[i][j] # 맵 해당위치에 그래프 위치 정보를 저장\n",
        "    for i in range(n): #다시한번 탐색\n",
        "      for j in range(m):\n",
        "        if temp[i][j]==2: #해당 위치가 감염되어있으면\n",
        "          virus(i,j) #바이러스 함수를 사용하여 주변을 감염시킴\n",
        "    result=max(result,get_score()) #모두 수행되면 빈공간의 최대 개수를 result에 저장\n",
        "    return\n",
        "  for i in range(n): #벽이 3개 세워지기 전까지 수행\n",
        "    for j in range(m):\n",
        "      if gragh[i][j]==0: #그래프가 0이라면(빈공간이라면)\n",
        "        gragh[i][j]=1 #1을 저장하여 벽을 세움\n",
        "        count+=1 #벽이 세워졌으므로 +1\n",
        "        dfs(count) #다음 벽을 세우거나 3개를 채워졌을 때 행동을 처리하기 위해 재귀 호출\n",
        "        gragh[i][j]=0 #다른 벽을 세우기 위해 0으로 바꿈(이해 안감)\n",
        "        count-=1 #벽을 제거했으므로 -1\n",
        "\n",
        "dfs(0) #추가 벽 0개에서 시작\n",
        "print(result)"
      ],
      "metadata": {
        "colab": {
          "base_uri": "https://localhost:8080/"
        },
        "id": "4-p-pWCK8lAG",
        "outputId": "2507dab2-3f5f-4a5a-858b-9c44d6a1f17a"
      },
      "execution_count": null,
      "outputs": [
        {
          "output_type": "stream",
          "name": "stdout",
          "text": [
            "4 6\n",
            "0 0 0 0 0 0\n",
            "1 0 0 0 0 2\n",
            "1 1 1 0 0 2\n",
            "0 0 0 0 0 2\n",
            "9\n"
          ]
        }
      ]
    },
    {
      "cell_type": "code",
      "source": [
        "#17_경쟁적 전염\n",
        "from collections import deque\n",
        "n, m= map(int,input().split())\n",
        "test = [] # 전체 보드 정보\n",
        "gragh=[] #바이러스 정보\n",
        "for i in range(n):\n",
        "  gragh.append(list(map(int,input().split())))\n",
        "  for j in range(n):\n",
        "    if gragh[i][j]!=0:\n",
        "      test.append((gragh[i][j],0,i,j))\n",
        "ts,tx,ty = map(int,input().split())\n",
        "\n",
        "test.sort() #숫자가 작은 것부터 감염이 되니까 정렬\n",
        "q=deque(test) #큐에 삽입\n",
        "\n",
        "dx=[-1,1,0,0]\n",
        "dy=[0,0,-1,1]\n",
        "\n",
        "while q:\n",
        "  virus,s,x,y=q.popleft() #가장 작은 수를 pop\n",
        "  if s==ts: #원하는 시간에 도달하면 멈춤\n",
        "    break\n",
        "  for i in range(4): #감염\n",
        "    nx=x+dx[i]\n",
        "    ny=y+dy[i]\n",
        "    if nx>=0 and nx<n and ny>=0 and ny<n: #범위안에 있다면\n",
        "      if gragh[nx][ny]==0: #그리고 빈공간이라면\n",
        "        gragh[nx][ny]=virus #그 좌표에 바이러스를 저장\n",
        "        q.append((virus,s+1,nx,ny)) #q에 다음 감염된 곳의 정보를 삽입\n",
        "\n",
        "print(gragh[tx-1][ty-1])"
      ],
      "metadata": {
        "id": "5ty2Es4B8lSJ",
        "colab": {
          "base_uri": "https://localhost:8080/"
        },
        "outputId": "372b7cbd-6d99-4d3f-8909-0785e94656cb"
      },
      "execution_count": 4,
      "outputs": [
        {
          "output_type": "stream",
          "name": "stdout",
          "text": [
            "3 3\n",
            "1 0 2\n",
            "0 0 0\n",
            "3 0 0\n",
            "2 3 2\n",
            "3\n"
          ]
        }
      ]
    },
    {
      "cell_type": "code",
      "source": [
        "#18_괄호변환\n",
        "p = ')('\n",
        "#문자열 균형이 맞는지 확인하는 함수\n",
        "def balance(p):\n",
        "  cnt=0 # 개수로 확인\n",
        "  for i in range(len(p)): \n",
        "    if p[i]=='(': #순서대로 탐색했을 때, '('이 나오면\n",
        "      cnt+=1 #cnt +1\n",
        "    else: #')'이 나오면\n",
        "      cnt-=1 #cnt -1\n",
        "    if cnt==0: #cnt가 0이되는 순간 균형이 맞는거임\n",
        "      return i #이때의 p의 인덱스 i값을 반환\n",
        "\n",
        "#문자열의 쌍이 맞고 ()형태로 이루어졌는지 확인\n",
        "def check(p):\n",
        "  cnt=0\n",
        "  for i in p:\n",
        "    if i=='(':\n",
        "      cnt+=1\n",
        "    else:\n",
        "      if cnt==0: #')'가 나왔는데 0이 아니라면 올바른 형태가 아님\n",
        "        return False #그러므로 false반환\n",
        "      cnt-=1\n",
        "  return True\n",
        "\n",
        "def solution(p):\n",
        "  answer='' #빈문자열을 반환\n",
        "  if p=='': #p가 빈 문자열이라면\n",
        "    return answer #반환\n",
        "  index=balance(p) #균형잡힌 문자열이 나오면 그때의 index 저장\n",
        "  u = p[:index+1] #그때를 기준으로 문자열을 u,v로 나눔\n",
        "  v = p[index+1:]\n",
        "  if check(u)==True: #나눈 u가 올바른 형태이면\n",
        "    answer=u+solution(v) #u를 그대로 두고 v를 재귀함수 돌려서 붙임\n",
        "  else: #u가 올바른 형태가 아니면\n",
        "    answer='(' #빈 answer에 (추가\n",
        "    answer+=solution(v) #그 다음에 v를 재귀함수 돌림\n",
        "    answer+=')' #)추가\n",
        "    u = list(u[1:-1]) #u의 양끝자리 문자를 제거\n",
        "    for i in range(len(u)): #u가 올바르지 않으므로 괄호 방향을 뒤집음\n",
        "      if u[i]=='(':\n",
        "        u[i]==')'\n",
        "      else: \n",
        "        u[i]=='('\n",
        "    answer += \"\".join(u) #문자열을 합쳐서 반환\n",
        "  return answer\n",
        "\n",
        "print(solution(p))"
      ],
      "metadata": {
        "id": "beL2oMQg8lsj",
        "colab": {
          "base_uri": "https://localhost:8080/"
        },
        "outputId": "0b9c6074-f8cb-4f68-9389-fb8cc46f78bb"
      },
      "execution_count": 11,
      "outputs": [
        {
          "output_type": "stream",
          "name": "stdout",
          "text": [
            "()\n"
          ]
        }
      ]
    },
    {
      "cell_type": "code",
      "source": [
        "#19_연산자끼워넣기\n",
        "n = int(input())\n",
        "num=list(map(int, input().split()))\n",
        "add, sub, mul, div=map(int,input().split())\n",
        "\n",
        "#최대, 최소값 초기화\n",
        "min_val=1e9 \n",
        "max_val=-1e9\n",
        "\n",
        "def dfs(i,now): #i는 다음 인덱스, now는 현재 인덱스일때 합\n",
        "  global add, sub, mul, div, min_val, max_val #사용할 변수 불러오기 \n",
        "  if i == n: #다음 인덱스가 n과 같으면(탐색 완료) => 최대, 최소값 저장\n",
        "    min_val = min(min_val, now)\n",
        "    max_val = max(max_val, now)\n",
        "\n",
        "  else:\n",
        "    if add>0:\n",
        "      add-=1 # 연산자를 사용했으므로 -1\n",
        "      dfs(i+1,now+num[i]) #다음 수에 대하여 재귀함수\n",
        "      add+=1 #다음 경우의 수를 위해서 돌려놓음\n",
        "    if sub>0:\n",
        "      sub-=1\n",
        "      dfs(i+1,now-num[i])\n",
        "      sub+=1\n",
        "    if mul>0:\n",
        "      mul-=1\n",
        "      dfs(i+1,now*num[i])\n",
        "      mul+=1\n",
        "    if div>0:\n",
        "      div-=1\n",
        "      dfs(i+1,int(now/num[i]))\n",
        "      div+=1\n",
        "\n",
        "dfs(1,num[0])\n",
        "\n",
        "print(max_val)\n",
        "print(min_val)"
      ],
      "metadata": {
        "id": "-eoETBcY8mQ_",
        "colab": {
          "base_uri": "https://localhost:8080/"
        },
        "outputId": "b3aa7e1f-274a-4a6d-f88e-b898db2a548d"
      },
      "execution_count": 21,
      "outputs": [
        {
          "output_type": "stream",
          "name": "stdout",
          "text": [
            "6\n",
            "1 2 3 4 5 6\n",
            "2 1 1 1\n",
            "54\n",
            "-24\n"
          ]
        }
      ]
    },
    {
      "cell_type": "code",
      "source": [
        "#21_인구이동\n",
        "from collections import deque\n",
        "n,l,r = map(int,input().split())\n",
        "a=[]\n",
        "for i in range(n):\n",
        "  a.append(list(map(int,input().split())))\n",
        "\n",
        "dx=[-1,0,1,0]\n",
        "dy=[0,-1,0,1]\n",
        "\n",
        "result=0\n",
        "\n",
        "def process(x,y, index): \n",
        "  united=[] #연합 리스트\n",
        "  united.append((x,y)) #현재 위치 좌표를 연합 리스트에 삽입\n",
        "  q=deque() \n",
        "  q.append((x,y))\n",
        "  union[x][y]=index #연합에 번호 할당\n",
        "  summary=gragh[x][y] # 연합 국가 위치정보\n",
        "  count=1 #연합 나라수\n",
        "  while q:\n",
        "    x,y=q.popleft()\n",
        "    for i in range(4):\n",
        "      nx=x+dx[i]\n",
        "      ny=y+dy[i]\n",
        "\n",
        "      if 0<=nx<n and 0<=ny<n and union[nx][ny]==-1: #맵 범위 안에 있고, 연합되지 않았으면\n",
        "        if l<=abs(a[nx][ny]-a[x][y])<=r: #기준 범위에 해당한다면\n",
        "          q.append((nx,ny)) #큐에 주변 국가 삽입\n",
        "          union[nx][ny]=index #연합국에 번호 할당\n",
        "          summary+=gragh[nx][ny] #연합국 인구수 더하기\n",
        "          count+=1 #연합국이 증가했으므로 count +1\n",
        "          united.append((nx,ny)) #연합리스트에 위치정보 삽입\n",
        "  for i,j in united: #인구수를 계산해서 해당 위치에 삽입\n",
        "    a[i][j]=summary//count\n",
        "  return count\n",
        "\n",
        "total_count=0\n",
        "while True:\n",
        "  union = [[-1]*n for _ in range(n)] #연합을 했는지 여부를 나타내는 리스트\n",
        "  index=0\n",
        "  for i in range(n): #리스트 전체를 탐색\n",
        "    for j in range(n):\n",
        "      if union[i][j]==-1: #처리가 안된 국가라면\n",
        "        process(i,j,index) #함수 실행\n",
        "        index+=1 #인덱스를 더함\n",
        "  if index ==n*n: #전체 리스트를 탐색했다면 멈춤\n",
        "    break\n",
        "  total_count+=1 #total_count 증가\n",
        "\n",
        "print(total_count)"
      ],
      "metadata": {
        "id": "GSd7PyK98XWJ",
        "colab": {
          "base_uri": "https://localhost:8080/"
        },
        "outputId": "b11e6b16-2ac6-4282-e8f6-cc74dcfc118d"
      },
      "execution_count": 32,
      "outputs": [
        {
          "output_type": "stream",
          "name": "stdout",
          "text": [
            "2 20 50\n",
            "50 30\n",
            "20 40\n",
            "1\n"
          ]
        }
      ]
    },
    {
      "cell_type": "code",
      "source": [],
      "metadata": {
        "id": "lYVqyGSeQw8u"
      },
      "execution_count": null,
      "outputs": []
    }
  ]
}