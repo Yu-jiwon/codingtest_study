{
  "nbformat": 4,
  "nbformat_minor": 0,
  "metadata": {
    "colab": {
      "provenance": [],
      "authorship_tag": "ABX9TyPw40Nurbr0vCLnXi9rVvZS",
      "include_colab_link": true
    },
    "kernelspec": {
      "name": "python3",
      "display_name": "Python 3"
    },
    "language_info": {
      "name": "python"
    }
  },
  "cells": [
    {
      "cell_type": "markdown",
      "metadata": {
        "id": "view-in-github",
        "colab_type": "text"
      },
      "source": [
        "<a href=\"https://colab.research.google.com/github/Yu-jiwon/codingtest_study/blob/main/%EC%9D%B4%EC%BD%94%ED%85%8C_0313_%EC%9D%B4%EC%A7%84%ED%83%90%EC%83%89.ipynb\" target=\"_parent\"><img src=\"https://colab.research.google.com/assets/colab-badge.svg\" alt=\"Open In Colab\"/></a>"
      ]
    },
    {
      "cell_type": "code",
      "execution_count": 10,
      "metadata": {
        "id": "NA_NbgyZi0vk",
        "colab": {
          "base_uri": "https://localhost:8080/"
        },
        "outputId": "1f3c4d21-d731-436e-e08a-3f22d9314e03"
      },
      "outputs": [
        {
          "output_type": "stream",
          "name": "stdout",
          "text": [
            "7 4\n",
            "1 1 2 2 2 2 3\n",
            "-1\n"
          ]
        }
      ],
      "source": [
        "# 27_정렬된 배열에서 특정 수의 개수 구하기\n",
        "\n",
        "def count(num,x): # 개수 세는 함수\n",
        "  n = len(num)\n",
        "  a = first(num,x,0,n-1)\n",
        "  if a == None:\n",
        "    return 0\n",
        "  b = last(num,x,0,n-1)\n",
        "  if b == None:\n",
        "    return 0\n",
        "  return b - a + 1\n",
        "\n",
        "def first(num, x, start, end): # 배열 속 특정 수의 시작 인덱스 구하기\n",
        "  if start>end: # 시작위치가 마지막 위치보다 뒤에 있으면 안됨\n",
        "    return None\n",
        "  mid = (start+end)//2\n",
        "  if (mid==0 or x>num[mid-1]) and num[mid]==x: # 배열 속 특정 수가 왼쪽에 있어야 됨\n",
        "    return mid\n",
        "  elif num[mid]>=x: #mid 위치에서의 값이 타겟보다 크거나 같으면 end를 mid-1함 (타겟과 같은 값이 첫 위치가 아닐 수 있음)\n",
        "    return first(num,x,start,mid-1)\n",
        "  else: #\n",
        "    return first(num, x, mid+1, end) \n",
        "\n",
        "def last(num, x, start, end): # 배열에서 특정 수의 마지막 인덱스 구하기\n",
        "  if start > end:\n",
        "    return None\n",
        "  mid= (start+end)//2\n",
        "  if (mid==n-1 or x<num[mid+1]) and num[mid]==x: #오른쪽에 있어야됨\n",
        "    return mid\n",
        "  elif num[mid]>x: #mid의 값이 타켓 값보다 크면 특정수 마지막 인덱스는 그 앞에 있을 수 밖에 없음\n",
        "    return last(num,x,start,mid-1)\n",
        "  else: # mid 값이 타겟보다 작거나 같으면 start를 mid+1해줌 -> (타겟과 같은 값이 마지막 위치가 아닐수 있음)\n",
        "    return last(num, x, mid+1, end)\n",
        "n,x = map(int, input().split())\n",
        "num = list(map(int,input().split()))\n",
        "cnt = count(num,x)\n",
        "if cnt==0:\n",
        "  print(-1)\n",
        "else:\n",
        "  print(cnt)"
      ]
    },
    {
      "cell_type": "code",
      "source": [
        "def count_by_value(array, x):\n",
        "    # 데이터의 개수\n",
        "    n = len(array)\n",
        "    # x가 처음 등장한 인덱스 계산\n",
        "    a = first(array, x, 0, n-1)\n",
        "    # 수열에 x가 존재하지 않는 경우\n",
        "    if a == None:\n",
        "        return 0\n",
        "    # x가 마지막으로 등장한 인덱스 계산\n",
        "    b = last(array, x, 0, n-1)\n",
        "\n",
        "    return b - a + 1\n",
        "\n",
        "# 처음 위치를 찾는 이진 탐색 함수\n",
        "def first(array, target, start, end):\n",
        "    if start > end:\n",
        "        return None\n",
        "    mid = (start + end) // 2\n",
        "    # 해당 값을 각지는 원소 중에서 가장 왼쪽에 있는 경우에만 인덱스 반환\n",
        "    if (mid == 0 or target > array[mid-1]) and array[mid] == target:\n",
        "        return mid\n",
        "    # 중간점의 값 보다 찾고자 하는 값이 작거나 같은 경우 왼쪽 확인\n",
        "    elif array[mid] >= target:\n",
        "        return first(array, target, start, mid - 1)\n",
        "    # 중간점의 값 보다 찾고자 하는 값이 큰 경우 오른쪽 확인\n",
        "    else:\n",
        "        return first(array, target, mid+1, end)\n",
        "\n",
        "# 마지막 위치를 찾는 이진 탐색 함수\n",
        "def last(array, target, start, end):\n",
        "    if start > end:\n",
        "        return None\n",
        "    mid = (start + end) // 2\n",
        "    # 해당 값을 가지는 원소 중에서 가장 오른쪽에 있는 경우에만 인덱스 반환\n",
        "    if (mid == n-1 or target < array[mid+1]) and array[mid] == target:\n",
        "        return mid\n",
        "    # 중간점의 값 보다 찾고자 하는 값이 작은 경우 왼쪽 확인\n",
        "    elif array[mid] > target:\n",
        "        return last(array, target, start, mid-1)\n",
        "    # 중간점의 값 보다 찾고자 하는 값이 크거나 같은 경우 오른쪽 확인\n",
        "    else:\n",
        "        return last(array, target, mid+1, end)\n",
        "\n",
        "n, x = map(int, input().split())\n",
        "array = list(map(int, input().split()))\n",
        "\n",
        "count = count_by_value(array, x)\n",
        "\n",
        "if count == 0:\n",
        "    print(-1)\n",
        "else:\n",
        "    print(count)"
      ],
      "metadata": {
        "colab": {
          "base_uri": "https://localhost:8080/"
        },
        "id": "QWmzdlkW-_CF",
        "outputId": "75012d82-2f6c-4f75-81a2-effe690021db"
      },
      "execution_count": null,
      "outputs": [
        {
          "output_type": "stream",
          "name": "stdout",
          "text": [
            "7 2\n",
            "1 1 2 2 2 2 3\n",
            "4\n"
          ]
        }
      ]
    },
    {
      "cell_type": "code",
      "source": [
        "# 28_고정점 설치\n",
        "n = int(input())\n",
        "num = list(map(int,input().split()))\n",
        "\n",
        "start=0\n",
        "end=n-1\n",
        "answer=None # 함수 안쓸때는 넣어줘야 함..\n",
        "\n",
        "while start<=end: #시작점이 끝점보다 작거나 같은동안 반복\n",
        "  mid=(start+end)//2 #중간점을 기준으로 구분점 찾기\n",
        "  if num[mid]==mid:\n",
        "    answer=mid\n",
        "    break\n",
        "  elif num[mid]>mid:\n",
        "    end = mid-1\n",
        "  else :\n",
        "    start = mid+1\n",
        "\n",
        "if answer==None:\n",
        "  print(-1)\n",
        "else:\n",
        "  print(answer)"
      ],
      "metadata": {
        "id": "NH59gwdjjAHK",
        "colab": {
          "base_uri": "https://localhost:8080/"
        },
        "outputId": "055522b0-9303-4c88-cd32-42e1ebef50b6"
      },
      "execution_count": null,
      "outputs": [
        {
          "output_type": "stream",
          "name": "stdout",
          "text": [
            "5\n",
            "-15 -6 1 3 7\n",
            "3\n"
          ]
        }
      ]
    },
    {
      "cell_type": "code",
      "source": [
        "def sol(num, start, end):\n",
        "  if start>end:\n",
        "    return None\n",
        "  mid = (start+end)//2\n",
        "  if num[mid]==mid:\n",
        "    return mid\n",
        "  elif num[mid]>mid:\n",
        "    return sol(num, start, mid-1)\n",
        "  else:\n",
        "    return sol(num, mid+1, end)\n",
        "\n",
        "n = int(input())\n",
        "num = list(map(int, input().split()))\n",
        "index = sol(num,0,n-1)\n",
        "if index==None:\n",
        "  print(-1)\n",
        "else:\n",
        "  print(index)"
      ],
      "metadata": {
        "colab": {
          "base_uri": "https://localhost:8080/"
        },
        "id": "q0yUN_-7F6KJ",
        "outputId": "7588ac6e-64b8-4e57-d746-9d0be52d6353"
      },
      "execution_count": null,
      "outputs": [
        {
          "output_type": "stream",
          "name": "stdout",
          "text": [
            "5\n",
            "-15 -6 1 3 7\n",
            "3\n"
          ]
        }
      ]
    },
    {
      "cell_type": "code",
      "source": [
        "# 29_공유기 설치\n",
        "n,c = map(int, input().split())\n",
        "house = []\n",
        "for _ in range(n):\n",
        "  house.append(int(input()))\n",
        "house.sort() #이진탐색을 위해서\n",
        "\n",
        "start = 1 #최소 거리차\n",
        "end = house[-1]-house[0] # 최대 거리 차이\n",
        "\n",
        "while start<=end: #차이를 이진탐색하여 개수 세기\n",
        "  mid = (start+end)//2\n",
        "  value = house[0] #공유기 설치 위치\n",
        "  count=1\n",
        "  for i in range(1,n):\n",
        "    if house[i]>=value+mid:#공유기 설치 위치가 그 전 위치+중간값 보다 크거나 같으면\n",
        "      value = house[i]#마지막 설치 위치를 바꿈\n",
        "      count+=1 #설치개수 +1\n",
        "  if count >= c: # 설치 해야되는 개수보다 설치 개수가 많으면 -> 거리를 증가시켜야함\n",
        "    start = mid+1 # start를 증가시킴\n",
        "    result = mid # 그때의 거리 저장\n",
        "  else:\n",
        "    end = mid-1 # 설치 개수가 적으면 -> 거리 감소\n",
        "\n",
        "print(result)"
      ],
      "metadata": {
        "id": "Ufy1k3bGjCcg",
        "colab": {
          "base_uri": "https://localhost:8080/"
        },
        "outputId": "77c19fb7-1e1a-4ee0-c34f-e3a7e86e074d"
      },
      "execution_count": null,
      "outputs": [
        {
          "output_type": "stream",
          "name": "stdout",
          "text": [
            "5 3\n",
            "1\n",
            "2\n",
            "8\n",
            "4\n",
            "9\n",
            "3\n"
          ]
        }
      ]
    },
    {
      "cell_type": "code",
      "source": [],
      "metadata": {
        "id": "Qm58-3Vb3jkV"
      },
      "execution_count": null,
      "outputs": []
    }
  ]
}