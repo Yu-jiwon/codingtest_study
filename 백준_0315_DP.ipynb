{
  "nbformat": 4,
  "nbformat_minor": 0,
  "metadata": {
    "colab": {
      "provenance": [],
      "authorship_tag": "ABX9TyMfKZpOavpLL45NFtN39572",
      "include_colab_link": true
    },
    "kernelspec": {
      "name": "python3",
      "display_name": "Python 3"
    },
    "language_info": {
      "name": "python"
    }
  },
  "cells": [
    {
      "cell_type": "markdown",
      "metadata": {
        "id": "view-in-github",
        "colab_type": "text"
      },
      "source": [
        "<a href=\"https://colab.research.google.com/github/Yu-jiwon/codingtest_study/blob/main/%EB%B0%B1%EC%A4%80_0315_DP.ipynb\" target=\"_parent\"><img src=\"https://colab.research.google.com/assets/colab-badge.svg\" alt=\"Open In Colab\"/></a>"
      ]
    },
    {
      "cell_type": "code",
      "execution_count": 4,
      "metadata": {
        "colab": {
          "base_uri": "https://localhost:8080/"
        },
        "id": "kzcTf3NebJiv",
        "outputId": "470b9559-bb5b-4c6b-96ce-fdc01b55c0ec"
      },
      "outputs": [
        {
          "output_type": "stream",
          "name": "stdout",
          "text": [
            "26\n",
            "2\n"
          ]
        }
      ],
      "source": [
        "#17626_Four Squares\n",
        "n = int(input())\n",
        "dp=[0]*(n+1)\n",
        "dp[1]=1\n",
        "\n",
        "for i in range(2,n+1): #2부터 시작\n",
        "  min_val=1e9 \n",
        "  j = 1 \n",
        "  while(j**2)<=i: #j의 제곱수가 i보다 크거나 같으면\n",
        "    min_val = min(min_val,dp[i-(j**2)]) #최솟값과 dp리스트 i에서 j의 제곱을 뺀 인덱스의 값을 비교\n",
        "    j+=1 \n",
        "  dp[i]=min_val+1 \n",
        "\n",
        "print(dp[n])"
      ]
    },
    {
      "cell_type": "code",
      "source": [
        "#11055_가장 큰 증가하는 부분 수열\n",
        "n = int(input())\n",
        "a = list(map(int, input().split()))\n",
        "dp = [1]*n\n",
        "\n",
        "for i in range(1,n):\n",
        "  for j in range(i):\n",
        "    if a[i]>a[j]:\n",
        "      dp[i]=max(dp[i],dp[j]+a[i])\n",
        "print(max(dp))"
      ],
      "metadata": {
        "colab": {
          "base_uri": "https://localhost:8080/"
        },
        "id": "AlN12yn4bUSS",
        "outputId": "28cc4bd3-5903-4c95-c44b-3f441d71d7a9"
      },
      "execution_count": 7,
      "outputs": [
        {
          "output_type": "stream",
          "name": "stdout",
          "text": [
            "10\n",
            "1 100 2 50 60 3 5 6 7 8\n",
            "113\n"
          ]
        }
      ]
    },
    {
      "cell_type": "code",
      "source": [
        "#11053_가장 긴 증가하는 부분 수열\n",
        "n = int(input())\n",
        "a = list(map(int, input().split()))\n",
        "dp=[1]*n\n",
        "for i in range(1,n):\n",
        "  for j in range(i):\n",
        "    if a[i]>a[j]:\n",
        "      dp[i] = max(dp[i],dp[j]+1)\n",
        "    \n",
        "print(max(dp))"
      ],
      "metadata": {
        "colab": {
          "base_uri": "https://localhost:8080/"
        },
        "id": "CtqtmGR-bXHS",
        "outputId": "4268958a-969b-45f6-f677-4fc5eb40386f"
      },
      "execution_count": 5,
      "outputs": [
        {
          "output_type": "stream",
          "name": "stdout",
          "text": [
            "6\n",
            "10 20 10 30 20 50\n",
            "4\n"
          ]
        }
      ]
    },
    {
      "cell_type": "code",
      "source": [
        "#1890_점프\n",
        "n = int(input())\n",
        "array=[]\n",
        "for i in range(n):\n",
        "  array.append(list(map(int, input().split())))\n",
        "\n",
        "dp = [[0]*(n) for _ in range(n)] #dp리스트 초기화\n",
        "dp[0][0]=1 #시작은 한번 방문된것이니까 1\n",
        "\n",
        "for i in range(n):\n",
        "  for j in range(n):\n",
        "    if i==n-1 and j ==n-1: #현재 위치가 오른쪽 끝이라면 그때의 dp값 출력\n",
        "      print(dp[i][j])\n",
        "      break\n",
        "    if j + array[i][j] <n: #j의 값이 증가됐을 때, n보다 작으면\n",
        "      dp[i][j+array[i][j]] += dp[i][j] #점프했을 때 위치에 현재의 값과 점프 위치에서의 값을 더함\n",
        "    if i + array[i][j]<n:\n",
        "      dp[i+array[i][j]][j] += dp[i][j]\n"
      ],
      "metadata": {
        "colab": {
          "base_uri": "https://localhost:8080/"
        },
        "id": "ZklbM40bbaBd",
        "outputId": "ab44c931-fff2-4eb5-da70-6112ae38b34b"
      },
      "execution_count": 2,
      "outputs": [
        {
          "output_type": "stream",
          "name": "stdout",
          "text": [
            "4\n",
            "2 3 3 1\n",
            "1 2 1 3\n",
            "1 2 3 1\n",
            "3 1 1 0\n",
            "3\n"
          ]
        }
      ]
    },
    {
      "cell_type": "code",
      "source": [
        "#21317_징검다리 건너기\n"
      ],
      "metadata": {
        "id": "Ctdet3GVbcdZ"
      },
      "execution_count": null,
      "outputs": []
    }
  ]
}