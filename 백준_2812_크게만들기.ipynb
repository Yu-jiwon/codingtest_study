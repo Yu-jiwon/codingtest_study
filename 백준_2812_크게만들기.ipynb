{
  "nbformat": 4,
  "nbformat_minor": 0,
  "metadata": {
    "colab": {
      "provenance": [],
      "authorship_tag": "ABX9TyPaLHJKGNO0mE2ntv9V3agT",
      "include_colab_link": true
    },
    "kernelspec": {
      "name": "python3",
      "display_name": "Python 3"
    },
    "language_info": {
      "name": "python"
    }
  },
  "cells": [
    {
      "cell_type": "markdown",
      "metadata": {
        "id": "view-in-github",
        "colab_type": "text"
      },
      "source": [
        "<a href=\"https://colab.research.google.com/github/Yu-jiwon/codingtest_study/blob/main/%EB%B0%B1%EC%A4%80_2812_%ED%81%AC%EA%B2%8C%EB%A7%8C%EB%93%A4%EA%B8%B0.ipynb\" target=\"_parent\"><img src=\"https://colab.research.google.com/assets/colab-badge.svg\" alt=\"Open In Colab\"/></a>"
      ]
    },
    {
      "cell_type": "code",
      "execution_count": null,
      "metadata": {
        "id": "K3W_aMb8yqaf"
      },
      "outputs": [],
      "source": [
        "# 스택이용해서 풀기\n",
        "# 앞자리 수부터 비교해서 제거해야함\n",
        "n,k = map(int, input().split())\n",
        "num=list(input().strip())\n",
        "\n",
        "cnt=k\n",
        "stack=[]\n",
        "# cnt가 0보다 크거나 stack에 무언가 있거나, \n",
        "# 스택 마지막 수가 num리스트 수보다 작거나\n",
        "for i in range(n):\n",
        "  # 스택 끝 수가 현재 num 수보다 작으면 제거\n",
        "  while cnt>0 and stack and stack[-1]<num[i]: \n",
        "      stack.pop()\n",
        "      cnt-=1\n",
        "    \n",
        "  stack.append(num[i])\n",
        "\n",
        "result=\"\"    \n",
        "stack=stack[:n-k] # 실행완료가 되어도 k가 남았을수도 있는데,, 음\n",
        "# num 리스트에 있는 모든 값이 실행되려면 (n-k)라고 해야함..(왜?)\n",
        "for i in stack:\n",
        "  result+=str(i)\n",
        "print(result)"
      ]
    }
  ]
}