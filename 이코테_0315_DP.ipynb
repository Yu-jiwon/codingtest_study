{
  "nbformat": 4,
  "nbformat_minor": 0,
  "metadata": {
    "colab": {
      "provenance": [],
      "authorship_tag": "ABX9TyMnggK6MtXooMxTJYl081LK",
      "include_colab_link": true
    },
    "kernelspec": {
      "name": "python3",
      "display_name": "Python 3"
    },
    "language_info": {
      "name": "python"
    }
  },
  "cells": [
    {
      "cell_type": "markdown",
      "metadata": {
        "id": "view-in-github",
        "colab_type": "text"
      },
      "source": [
        "<a href=\"https://colab.research.google.com/github/Yu-jiwon/codingtest_study/blob/main/%EC%9D%B4%EC%BD%94%ED%85%8C_0315_DP.ipynb\" target=\"_parent\"><img src=\"https://colab.research.google.com/assets/colab-badge.svg\" alt=\"Open In Colab\"/></a>"
      ]
    },
    {
      "cell_type": "code",
      "execution_count": 7,
      "metadata": {
        "colab": {
          "base_uri": "https://localhost:8080/"
        },
        "id": "mTqx7aC0gCel",
        "outputId": "bdbe9da8-f6d9-4ac2-e397-50829055fe22"
      },
      "outputs": [
        {
          "output_type": "stream",
          "name": "stdout",
          "text": [
            "1\n",
            "3 4\n",
            "1 3 3 2 2 1 4 1 0 6 4 7\n",
            "19\n"
          ]
        }
      ],
      "source": [
        "# 31_금광\n",
        "t = int(input())\n",
        "for i in range(t):\n",
        "  n,m = map(int,input().split())\n",
        "  g = list(map(int,input().split()))\n",
        "\n",
        "  dp = []\n",
        "  index=0\n",
        "  for i in range(n):\n",
        "    dp.append(g[index:index+m]) #1차원 리스트를 n*m형태로 바꿈\n",
        "    index+=m\n",
        "\n",
        "  for j in range(1,m): #오른쪽으로만 갈 수 있으니까 1부터, n을 비교\n",
        "    for i in range(n):\n",
        "      if i==0: # 왼쪽 위에서 오는 경우(n이 0이면 위가 더이상 없음)\n",
        "        left_up = 0\n",
        "      else: #i가 0이 아니면 왼쪽 위에서 오는게 가능\n",
        "        left_up = dp[i-1][j-1] #현재 [i][j]기준에서 왼쪽 위의 좌표를 저장\n",
        "      if i==n-1: #왼쪽 아래에서 오는 경우(i가 제일 밑에 있으면 아래에서 올 것이 없음)\n",
        "        left_down=0\n",
        "      else: \n",
        "        left_down = dp[i+1][j-1] #현재 [i][j]기준에서 왼쪽 아래의 좌표를 저장\n",
        "      left = dp[i][j-1] #왼쪽에서 오는 경우(m이 1부터 시작되는 이상 조건 없이 가능)\n",
        "      dp[i][j] = dp[i][j]+max(left_up,left_down,left) #dp[i][j]에 현재의 값과 지금까지 비교한 값중에 젤 큰 값을 더해서 저장\n",
        "\n",
        "  result = 0 #max를 위해서\n",
        "  for i in range(n):\n",
        "    result = max(result, dp[i][m-1]) #dp리스트에서 맨 오른쪽 줄에 있는 숫자들중에서 젤 큰 수 출력\n",
        "  print(result)"
      ]
    },
    {
      "cell_type": "code",
      "source": [
        "# 32_정수 삼각형(백준_1932)\n",
        "n = int(input())\n",
        "num=[]\n",
        "for i in range(n):\n",
        "  num.append(list(map(int, input().split())))\n",
        "\n",
        "for i in range(1,n): \n",
        "  for j in range(i+1):\n",
        "    if j==0: #위의 왼쪽에서 향할 때\n",
        "      left_up=0\n",
        "    else:\n",
        "      left_up = num[i-1][j-1]\n",
        "    if i==j: #위에서 내려올때\n",
        "      left=0\n",
        "    else:\n",
        "      left = num[i-1][j]\n",
        "    num[i][j]=num[i][j]+max(left_up,left)\n",
        "\n",
        "\n",
        "print(max(num[n-1]))"
      ],
      "metadata": {
        "colab": {
          "base_uri": "https://localhost:8080/"
        },
        "id": "5-6uG2O2gj9r",
        "outputId": "e813f74e-72c5-415f-9da7-ad939333eb73"
      },
      "execution_count": 17,
      "outputs": [
        {
          "output_type": "stream",
          "name": "stdout",
          "text": [
            "5\n",
            "7\n",
            "3 8\n",
            "8 1 0\n",
            "2 7 4 4\n",
            "4 5 2 6 5\n",
            "30\n"
          ]
        }
      ]
    },
    {
      "cell_type": "code",
      "source": [
        "# 33_퇴사(백준_14501)\n",
        "n = int(input())\n",
        "t = []\n",
        "p = []\n",
        "for i in range(n):\n",
        "  a,b = map(int, input().split())\n",
        "  t.append(a)\n",
        "  p.append(b)\n",
        "\n",
        "dp = [0]*(n+1)\n",
        "max_val = 0\n",
        "\n",
        "for i in range(n-1,-1,-1):#거꾸로 계산해야됨\n",
        "  time = t[i]+i #걸리는 시간+현재 날짜\n",
        "  if time <= n: # 기간안에 끝나는 상담이라면\n",
        "    dp[i] = max(p[i]+dp[time], max_val) #dp에 해당 비용이랑 끝나는 날의 비용을 더함\n",
        "    max_val = dp[i] #최대 이익을 저장\n",
        "  else:\n",
        "    dp[i]=max_val\n",
        "print(max_val)"
      ],
      "metadata": {
        "colab": {
          "base_uri": "https://localhost:8080/"
        },
        "id": "rfM-QUHtgnDr",
        "outputId": "1753beef-6690-4d1f-c2ce-c824d8c9e088"
      },
      "execution_count": 18,
      "outputs": [
        {
          "output_type": "stream",
          "name": "stdout",
          "text": [
            "7\n",
            "3 10\n",
            "5 20\n",
            "1 10\n",
            "1 20\n",
            "2 15\n",
            "4 40\n",
            "2 200\n",
            "45\n"
          ]
        }
      ]
    },
    {
      "cell_type": "code",
      "source": [
        "# 34_병사 배치하기(백준_18353)\n",
        "n = int(input())\n",
        "person = list(map(int, input().split()))\n",
        "person.reverse() #내림차순 정렬을 위해\n",
        "dp=[1]*n\n",
        "\n",
        "for i in range(1,n):\n",
        "  for j in range(0,i):\n",
        "    if person[j]<person[i]: #현재 전투력이 그 전 전투력보다 크다면\n",
        "      dp[i] = max(dp[i], dp[j]+1) \n",
        "\n",
        "print(n-max(dp)) #빠진 병사수를 구해야함"
      ],
      "metadata": {
        "colab": {
          "base_uri": "https://localhost:8080/"
        },
        "id": "mJqePkJZgpmI",
        "outputId": "13f3662e-12cf-4689-e775-4028286d0393"
      },
      "execution_count": 19,
      "outputs": [
        {
          "output_type": "stream",
          "name": "stdout",
          "text": [
            "7\n",
            "15 11 4 8 5 2 4\n",
            "2\n"
          ]
        }
      ]
    },
    {
      "cell_type": "code",
      "source": [
        "# 35_못생긴 수\n",
        "n = int(input())\n",
        "ugly=[0]*n\n",
        "ugly[0]=1\n",
        "\n",
        "i2 = i3 = i5 = 0 #인덱스\n",
        "n2, n3, n5 = 2,3,5 #못생긴 수 초기화\n",
        "\n",
        "for j in range(1,n):\n",
        "  ugly[j] = min(n2,n3,n5) #못생긴 수들의 최소값을 저장\n",
        "  if ugly[j]==n2: #저장된 값이 n2,n3,n5이면\n",
        "    i2+=1 #인덱스 값을 +1\n",
        "    n2 = ugly[i2]*2 #못생긴 수에 2를 곱해서 못생긴 수를 생성\n",
        "  if ugly[j] == n3:\n",
        "    i3+=1\n",
        "    n3=ugly[i3]*3\n",
        "  if ugly[j] == n5:\n",
        "    i5+=1\n",
        "    n5=ugly[i5]*5\n",
        "  print(ugly)\n",
        "\n",
        "print(ugly[n-1])"
      ],
      "metadata": {
        "colab": {
          "base_uri": "https://localhost:8080/"
        },
        "id": "GSb271Fqgucg",
        "outputId": "961ec246-3f89-4406-8e28-fd093301936a"
      },
      "execution_count": 20,
      "outputs": [
        {
          "output_type": "stream",
          "name": "stdout",
          "text": [
            "10\n",
            "[1, 2, 0, 0, 0, 0, 0, 0, 0, 0]\n",
            "[1, 2, 3, 0, 0, 0, 0, 0, 0, 0]\n",
            "[1, 2, 3, 4, 0, 0, 0, 0, 0, 0]\n",
            "[1, 2, 3, 4, 5, 0, 0, 0, 0, 0]\n",
            "[1, 2, 3, 4, 5, 6, 0, 0, 0, 0]\n",
            "[1, 2, 3, 4, 5, 6, 8, 0, 0, 0]\n",
            "[1, 2, 3, 4, 5, 6, 8, 9, 0, 0]\n",
            "[1, 2, 3, 4, 5, 6, 8, 9, 10, 0]\n",
            "[1, 2, 3, 4, 5, 6, 8, 9, 10, 12]\n",
            "12\n"
          ]
        }
      ]
    },
    {
      "cell_type": "code",
      "source": [
        "# 36_편집 거리\n",
        "a = input()\n",
        "b = input()\n",
        "def edit(a,b):\n",
        "  n = len(a)\n",
        "  m = len(b)\n",
        "\n",
        "  dp = [[0]*(m+1) for _ in range(n+1)]#dp리스트 초기화\n",
        "  # 각 첫번째 열과 행에 문자 길이만큼 삽입\n",
        "  for i in range(1,n+1):\n",
        "    dp[i][0]=i\n",
        "  for i in range(1,m+1):\n",
        "    dp[0][i]=i\n",
        "  \n",
        "  for i in range(1,n+1):\n",
        "    for j in range(1,m+1):\n",
        "      if a[i-1]==b[j-1]: #해당 위치에 값이 같으면\n",
        "        dp[i][j]=dp[i-1][j-1] #그 위치에 대각선에 있는 값을 삽입\n",
        "      else:\n",
        "        dp[i][j]=1+min(dp[i-1][j],dp[i][j-1],dp[i-1][j-1]) #주변 값들의 최소값에 1을 더함\n",
        "  return dp[n][m]\n",
        "\n",
        "print(edit(a,b))"
      ],
      "metadata": {
        "colab": {
          "base_uri": "https://localhost:8080/"
        },
        "id": "wfyx8VzmgxMV",
        "outputId": "96e72a12-c826-4406-fce1-784cb0e62c5e"
      },
      "execution_count": 21,
      "outputs": [
        {
          "output_type": "stream",
          "name": "stdout",
          "text": [
            "cat\n",
            "cut\n",
            "1\n"
          ]
        }
      ]
    },
    {
      "cell_type": "code",
      "source": [],
      "metadata": {
        "id": "BGnhhHYPZh-v"
      },
      "execution_count": null,
      "outputs": []
    }
  ]
}