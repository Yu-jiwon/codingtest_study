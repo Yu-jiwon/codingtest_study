{
  "nbformat": 4,
  "nbformat_minor": 0,
  "metadata": {
    "colab": {
      "provenance": [],
      "authorship_tag": "ABX9TyOiqoDwfwTnXWheM5E+eOze",
      "include_colab_link": true
    },
    "kernelspec": {
      "name": "python3",
      "display_name": "Python 3"
    },
    "language_info": {
      "name": "python"
    }
  },
  "cells": [
    {
      "cell_type": "markdown",
      "metadata": {
        "id": "view-in-github",
        "colab_type": "text"
      },
      "source": [
        "<a href=\"https://colab.research.google.com/github/Yu-jiwon/codingtest_study/blob/main/%EB%B0%B1%EC%A4%80_0306_%EA%B5%AC%ED%98%84.ipynb\" target=\"_parent\"><img src=\"https://colab.research.google.com/assets/colab-badge.svg\" alt=\"Open In Colab\"/></a>"
      ]
    },
    {
      "cell_type": "code",
      "execution_count": 25,
      "metadata": {
        "colab": {
          "base_uri": "https://localhost:8080/"
        },
        "id": "02lzftef2l1w",
        "outputId": "882148f0-1a28-4cac-aeab-fab6ba74cc4b"
      },
      "outputs": [
        {
          "output_type": "stream",
          "name": "stdout",
          "text": [
            "7\n",
            "35\n",
            "49 26 27 28 29 30 31\n",
            "48 25 10 11 12 13 32\n",
            "47 24 9 2 3 14 33\n",
            "46 23 8 1 4 15 34\n",
            "45 22 7 6 5 16 35\n",
            "44 21 20 19 18 17 36\n",
            "43 42 41 40 39 38 37\n",
            "5 7\n"
          ]
        }
      ],
      "source": [
        "#달팽이\n",
        "def draw():\n",
        "    global n\n",
        "    x = y = n//2\n",
        "    cnt = num = 2\n",
        "    d = [(0,1),(1,0),(0,-1),(-1,0)]\n",
        "    t = 0\n",
        "    board[x][y] = 1; x-=1; y-=1\n",
        "\n",
        "    while True:\n",
        "        for _ in range(4):\n",
        "            a,b = d[t]\n",
        "            for _ in range(cnt):\n",
        "                x+=a; y+=b\n",
        "                board[x][y] = num\n",
        "                if num==m:\n",
        "                    ans[0]=x+1; ans[1]=y+1\n",
        "                if num==n**2:\n",
        "                    return\n",
        "                num+=1\n",
        "            t = (t+1)%4\n",
        "        cnt+=2\n",
        "        x-=1; y-=1\n",
        "\n",
        "n = int(input())\n",
        "m = int(input())\n",
        "board = [[0]*n for _ in range(n)]\n",
        "ans = [n//2+1,n//2+1]\n",
        "draw()\n",
        "for i in board:\n",
        "    print(*i)\n",
        "print(*ans)"
      ]
    },
    {
      "cell_type": "code",
      "source": [
        "# 오리\n",
        "quack = 'quack'\n",
        "duck = input()\n",
        "visited = [0] * len(duck)\n",
        "\n",
        "def find(start):\n",
        "    global cnt\n",
        "    j = 0\n",
        "    first = 1\n",
        "    for i in range(start, len(duck)):\n",
        "        if duck[i] == quack[j] and not visited[i]: # 울음소리 비교\n",
        "            visited[i] = 1\n",
        "            if duck[i] == 'k':\n",
        "                if first:\n",
        "                    cnt += 1 # 오리가 연속으로 울면 한 마리로 치기 때문에 처음만 count 해줌\n",
        "                    first = 0 # 똑같은 오리가 울 경우에 다음부턴 count 안해주기 위해서\n",
        "                j = 0 # 마지막 문자인 k까지 나왔으면 다시 q부터 찾아서 비교해야 함\n",
        "            \n",
        "            else:\n",
        "                j += 1 # k가 아니면 순서대로 다음 문자를 비교하기 위해 index ++\n",
        "\n",
        "if len(duck) % 5 != 0: # 입력된 문자열의 길이가 5의 배수가 아니라면 올바르지 않은 울음소리임\n",
        "    print(-1)\n",
        "    exit() # -1을 출력하고 exit를 해주어야 프로그램이 종료되어 다음 for문 실행이 안됨\n",
        "\n",
        "cnt = 0 # 오리의 수\n",
        "for i in range(len(duck)):\n",
        "    if duck[i] == 'q' and not visited[i]:\n",
        "        find(i)\n",
        "\n",
        "if cnt == 0 or not all(visited): # 오리의 수가 0마리거나 모든 문자를 방문하지 않았을 경우\n",
        "    print(-1) # 올바르지 않은 울음소리\n",
        "\n",
        "else: # 올바른 울음소리일 경우 오리의 수 출력\n",
        "    print(cnt)"
      ],
      "metadata": {
        "colab": {
          "base_uri": "https://localhost:8080/"
        },
        "id": "W1h8rOHK25t3",
        "outputId": "c8cde69a-6af6-4591-db5f-0ebd00b464bb"
      },
      "execution_count": 26,
      "outputs": [
        {
          "output_type": "stream",
          "name": "stdout",
          "text": [
            "quqacukqauackck\n",
            "2\n"
          ]
        }
      ]
    },
    {
      "cell_type": "code",
      "source": [
        "#달력\n",
        "N = int(input())\n",
        "calendar = [0]*367\n",
        "arr = []\n",
        "for _ in range(N):\n",
        "    s, e = map(int, input().split())\n",
        "    calendar[s] += 1\n",
        "    calendar[e+1] -= 1\n",
        " \n",
        "width = 0\n",
        "height = 0\n",
        "answer = 0\n",
        "for i in range(1, 367):\n",
        "    calendar[i] += calendar[i-1]\n",
        "    if calendar[i] == 0:\n",
        "        answer += width*height\n",
        "        width = 0\n",
        "        height = 0\n",
        "    else:\n",
        "        width += 1\n",
        "        height = max(height, calendar[i])\n",
        " \n",
        "print(answer)"
      ],
      "metadata": {
        "colab": {
          "base_uri": "https://localhost:8080/"
        },
        "id": "a5xoWVH326Pg",
        "outputId": "2fb47b5e-a4bc-4234-974e-bc22b66dc2fd"
      },
      "execution_count": 28,
      "outputs": [
        {
          "output_type": "stream",
          "name": "stdout",
          "text": [
            "7\n",
            "2 4\n",
            "4 5\n",
            "5 6\n",
            "5 7\n",
            "7 9\n",
            "11 12\n",
            "12 12\n",
            "28\n"
          ]
        }
      ]
    },
    {
      "cell_type": "code",
      "source": [
        "#홀수홀릭호석\n",
        "n = input()\n",
        "result=[]   \n",
        "\n",
        "# 숫자 각 자리수의 홀수를 계산하는 함수\n",
        "def num(num):\n",
        "  nt=0\n",
        "  while num:\n",
        "    if(num%10)%2==1: #int로 받아와서 각 자리 수별로 확인하는게 좋음\n",
        "      nt+=1\n",
        "    num//=10 #\n",
        "  return nt\n",
        "\n",
        "def sol(n,total):\n",
        "  if len(n)==1: #1자리수일때,\n",
        "    result.append(total) #결과 리스트에 홀수의 개수 추가\n",
        "    return result\n",
        "  elif len(n)==2: # 2자리수일때,\n",
        "    nn=int(n[0])+int(n[1]) # 각 자리 수를 더함\n",
        "    sol(str(nn), total+num(nn)) #1자리수가 아니므로 sol 반복\n",
        "  else:\n",
        "    for i in range(1,len(n)): #처음에 끊을 위치\n",
        "      for j in range(i+1,len(n)): #두번째에 끊을 위치\n",
        "        p1=n[:i]\n",
        "        p2=n[i:j]\n",
        "        p3=n[j:]\n",
        "\n",
        "        nn = int(p1)+int(p2)+int(p3) # 각자리수를 더함\n",
        "        sol(str(nn), total+num(nn)) # 1자리수가 아니므로 sol 반복\n",
        "\n",
        "sol(n,num(int(n)))\n",
        "print(min(result), max(result))"
      ],
      "metadata": {
        "colab": {
          "base_uri": "https://localhost:8080/"
        },
        "id": "TG2r3MAI27X_",
        "outputId": "35e84f94-e9fe-464d-bc6f-a3e2c6a09933"
      },
      "execution_count": 24,
      "outputs": [
        {
          "output_type": "stream",
          "name": "stdout",
          "text": [
            "514\n",
            "4 4\n"
          ]
        }
      ]
    },
    {
      "cell_type": "code",
      "source": [
        "#트리순회\n",
        "import sys\n",
        "from sys import stdin\n",
        "sys.setrecursionlimit(10**8)\n",
        "input = stdin.readline()\n",
        "\n",
        "class Node:\n",
        "    def __init__(self, data, left_node, right_node):\n",
        "        self.data = data\n",
        "        self.left_node = left_node\n",
        "        self.right_node = right_node\n",
        "\n",
        "def in_order(node):\n",
        "    if node.left_node != '-1':\n",
        "        in_order(tree[node.left_node])\n",
        "    a_list.append(node.data)\n",
        "    if node.right_node != '-1':\n",
        "        in_order(tree[node.right_node])\n",
        "\n",
        "def similar_in_order(node):\n",
        "    global cnt\n",
        "\n",
        "    if node.left_node != '-1':\n",
        "        similar_in_order(tree[node.left_node])\n",
        "        cnt += 1\n",
        "\n",
        "    if node.data == a_list[-1]: # 중위순회의 마지막 값과 같다면 종료\n",
        "        print(cnt)\n",
        "        exit(0)\n",
        "    cnt += 1\n",
        "\n",
        "    if node.right_node != '-1':\n",
        "        similar_in_order(tree[node.right_node])\n",
        "        cnt += 1\n",
        "\n",
        "\n",
        "n = int(input())\n",
        "tree = {}\n",
        "for i in range(n):\n",
        "    data, left_node, right_node = input().split()\n",
        "    tree[data] = Node(data, left_node, right_node)\n",
        "\n",
        "a_list = []\n",
        "cnt = 0\n",
        "in_order(tree['1'])\n",
        "similar_in_order(tree['1'])"
      ],
      "metadata": {
        "id": "4pIeryhN29JU"
      },
      "execution_count": null,
      "outputs": []
    },
    {
      "cell_type": "code",
      "source": [],
      "metadata": {
        "id": "nnN8Ybw13Cwq"
      },
      "execution_count": null,
      "outputs": []
    }
  ]
}